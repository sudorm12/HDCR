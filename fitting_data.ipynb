{
 "cells": [
  {
   "cell_type": "code",
   "execution_count": 1,
   "metadata": {},
   "outputs": [],
   "source": [
    "import logging\n",
    "import itertools\n",
    "from prepare_data import HCDALoader\n",
    "from sklearn.model_selection import KFold\n",
    "\n",
    "logging.basicConfig(level=logging.DEBUG, format='%(asctime)s - %(levelname)s - %(message)s')\n"
   ]
  },
  {
   "cell_type": "code",
   "execution_count": 2,
   "metadata": {},
   "outputs": [
    {
     "name": "stderr",
     "output_type": "stream",
     "text": [
      "2018-06-26 23:01:19,133 - DEBUG - Initializing data loader\n",
      "2018-06-26 23:01:19,145 - DEBUG - Reading application_train.csv...\n",
      "2018-06-26 23:01:26,255 - DEBUG - Finished reading application_train.csv\n",
      "2018-06-26 23:01:26,256 - DEBUG - Loading bureau data...\n",
      "2018-06-26 23:01:35,179 - DEBUG - Loading previous application data...\n",
      "2018-06-26 23:02:16,986 - DEBUG - Done\n"
     ]
    }
   ],
   "source": [
    "loader = HCDALoader()\n",
    "\n",
    "# load index values from main table\n",
    "app_ix = loader.applications_train_index()\n"
   ]
  },
  {
   "cell_type": "code",
   "execution_count": 4,
   "metadata": {},
   "outputs": [
    {
     "name": "stderr",
     "output_type": "stream",
     "text": [
      "2018-06-26 23:03:05,032 - DEBUG - Preparing applications data...\n"
     ]
    },
    {
     "name": "stdout",
     "output_type": "stream",
     "text": [
      "(230633,) (76878,)\n",
      "(230633,) (76878,)\n",
      "(230633,) (76878,)\n",
      "(230634,) (76877,)\n"
     ]
    },
    {
     "name": "stderr",
     "output_type": "stream",
     "text": [
      "2018-06-26 23:03:08,389 - DEBUG - Performing soft impute on current home info...\n",
      "2018-06-26 23:03:17,949 - DEBUG - Running PCA on current home info...\n",
      "2018-06-26 23:03:20,244 - DEBUG - Performing linear regression on goods price and annuity amount...\n",
      "2018-06-26 23:03:21,835 - DEBUG - Preparing applications data...\n",
      "2018-06-26 23:03:22,892 - DEBUG - Performing soft impute on current home info...\n",
      "2018-06-26 23:03:26,039 - DEBUG - Running PCA on current home info...\n",
      "2018-06-26 23:03:26,363 - DEBUG - Performing linear regression on goods price and annuity amount...\n",
      "2018-06-26 23:03:26,399 - DEBUG - Loading training data...\n",
      "2018-06-26 23:03:32,355 - DEBUG - Loading validation data...\n",
      "2018-06-26 23:03:35,160 - DEBUG - Scaling train and validation data...\n",
      "2018-06-26 23:03:38,930 - DEBUG - Done\n"
     ]
    }
   ],
   "source": [
    "# fit model using k-fold verification\n",
    "kf = KFold(n_splits=4, shuffle=True)\n",
    "for fold_indexes in kf.split(app_ix):\n",
    "    print(fold_indexes[0].shape, fold_indexes[1].shape)\n",
    "    \n",
    "data_train, target_train, data_val, target_val = loader.load_train_val(fold_indexes[0], fold_indexes[1])\n"
   ]
  },
  {
   "cell_type": "code",
   "execution_count": 4,
   "metadata": {},
   "outputs": [
    {
     "data": {
      "text/plain": [
       "((230634, 225), (230634,), (76877, 225), (76877,))"
      ]
     },
     "execution_count": 4,
     "metadata": {},
     "output_type": "execute_result"
    }
   ],
   "source": [
    "data_train.shape, target_train.shape, data_val.shape, target_val.shape\n"
   ]
  },
  {
   "cell_type": "code",
   "execution_count": 5,
   "metadata": {},
   "outputs": [],
   "source": [
    "from imblearn.over_sampling import RandomOverSampler\n",
    "ros = RandomOverSampler()\n",
    "data_train_os, target_train_os = ros.fit_sample(data_train, target_train)\n"
   ]
  },
  {
   "cell_type": "code",
   "execution_count": 6,
   "metadata": {},
   "outputs": [
    {
     "data": {
      "text/plain": [
       "(array([0, 1]), array([211976, 211976]))"
      ]
     },
     "execution_count": 6,
     "metadata": {},
     "output_type": "execute_result"
    }
   ],
   "source": [
    "import numpy as np\n",
    "\n",
    "np.unique(target_train_os, return_counts=True)\n"
   ]
  },
  {
   "cell_type": "code",
   "execution_count": 7,
   "metadata": {},
   "outputs": [
    {
     "name": "stderr",
     "output_type": "stream",
     "text": [
      "Using TensorFlow backend.\n"
     ]
    },
    {
     "name": "stdout",
     "output_type": "stream",
     "text": [
      "Train on 423952 samples, validate on 76877 samples\n",
      "Epoch 1/5\n",
      "423952/423952 [==============================] - 26s 62us/step - loss: 0.6169 - acc: 0.6845 - val_loss: 0.6704 - val_acc: 0.6429\n",
      "Epoch 2/5\n",
      "423952/423952 [==============================] - 25s 59us/step - loss: 0.5980 - acc: 0.6908 - val_loss: 0.6702 - val_acc: 0.6482\n",
      "Epoch 3/5\n",
      "423952/423952 [==============================] - 25s 59us/step - loss: 0.5955 - acc: 0.6940 - val_loss: 0.6264 - val_acc: 0.6759\n",
      "Epoch 4/5\n",
      "423952/423952 [==============================] - 26s 61us/step - loss: 0.5942 - acc: 0.6945 - val_loss: 0.6788 - val_acc: 0.6420\n",
      "Epoch 5/5\n",
      "423952/423952 [==============================] - 28s 66us/step - loss: 0.5935 - acc: 0.6955 - val_loss: 0.6049 - val_acc: 0.6907\n"
     ]
    }
   ],
   "source": [
    "from models import LinearNN\n",
    "\n",
    "linear_nn = LinearNN(data_train_os.shape[1], l2_reg=1e-3)\n",
    "linear_nn.fit(data_train_os, target_train_os, data_val, target_val, num_epochs=5)\n"
   ]
  },
  {
   "cell_type": "code",
   "execution_count": 8,
   "metadata": {},
   "outputs": [],
   "source": [
    "import matplotlib.pyplot as plt\n",
    "\n",
    "def plot_confusion_matrix(cm, classes,\n",
    "                          normalize=False,\n",
    "                          title='Confusion matrix',\n",
    "                          cmap=plt.cm.Blues):\n",
    "    \"\"\"\n",
    "    This function prints and plots the confusion matrix.\n",
    "    Normalization can be applied by setting `normalize=True`.\n",
    "    \"\"\"\n",
    "    if normalize:\n",
    "        cm = cm.astype('float') / cm.sum(axis=1)[:, np.newaxis]\n",
    "        print(\"Normalized confusion matrix\")\n",
    "    else:\n",
    "        print('Confusion matrix, without normalization')\n",
    "\n",
    "    print(cm)\n",
    "\n",
    "    plt.imshow(cm, interpolation='nearest', cmap=cmap)\n",
    "    plt.title(title)\n",
    "    plt.colorbar()\n",
    "    tick_marks = np.arange(len(classes))\n",
    "    plt.xticks(tick_marks, classes, rotation=45)\n",
    "    plt.yticks(tick_marks, classes)\n",
    "\n",
    "    fmt = '.2f' if normalize else 'd'\n",
    "    thresh = cm.max() / 2.\n",
    "    for i, j in itertools.product(range(cm.shape[0]), range(cm.shape[1])):\n",
    "        plt.text(j, i, format(cm[i, j], fmt),\n",
    "                 horizontalalignment=\"center\",\n",
    "                 color=\"white\" if cm[i, j] > thresh else \"black\")\n",
    "\n",
    "    plt.tight_layout()\n",
    "    plt.ylabel('True label')\n",
    "    plt.xlabel('Predicted label')"
   ]
  },
  {
   "cell_type": "code",
   "execution_count": 9,
   "metadata": {},
   "outputs": [
    {
     "name": "stdout",
     "output_type": "stream",
     "text": [
      "Normalized confusion matrix\n",
      "[[ 0.69299958  0.30700042]\n",
      " [ 0.33517107  0.66482893]]\n"
     ]
    },
    {
     "data": {
      "image/png": "[encoded data removed]",
      "text/plain": [
       "<matplotlib.figure.Figure at 0x105072e80>"
      ]
     },
     "metadata": {},
     "output_type": "display_data"
    }
   ],
   "source": [
    "from sklearn.metrics import confusion_matrix\n",
    "\n",
    "predict_val = linear_nn.predict(data_val)\n",
    "cm = confusion_matrix(target_val, predict_val.round())\n",
    "plot_confusion_matrix(cm, ['No Payment Trouble', 'Payment Trouble'], normalize=True)\n"
   ]
  },
  {
   "cell_type": "code",
   "execution_count": 12,
   "metadata": {},
   "outputs": [
    {
     "data": {
      "text/plain": [
       "((array([ 0.,  1.], dtype=float32), array([51821, 25056])),\n",
       " (array([  4.58533222e-13,   5.61111380e-10,   4.66813299e-09, ...,\n",
       "           9.99993324e-01,   9.99995232e-01,   9.99995947e-01], dtype=float32),\n",
       "  array([1, 1, 1, ..., 1, 1, 1])))"
      ]
     },
     "execution_count": 12,
     "metadata": {},
     "output_type": "execute_result"
    }
   ],
   "source": [
    "np.unique(predict_val, return_counts=True), np.unique(predict_val, return_counts=True)"
   ]
  },
  {
   "cell_type": "code",
   "execution_count": 15,
   "metadata": {},
   "outputs": [
    {
     "data": {
      "text/plain": [
       "RandomForestClassifier(bootstrap=True, class_weight=None, criterion='gini',\n",
       "            max_depth=None, max_features='auto', max_leaf_nodes=None,\n",
       "            min_impurity_decrease=0.0, min_impurity_split=None,\n",
       "            min_samples_leaf=1, min_samples_split=2,\n",
       "            min_weight_fraction_leaf=0.0, n_estimators=10, n_jobs=1,\n",
       "            oob_score=False, random_state=None, verbose=0,\n",
       "            warm_start=False)"
      ]
     },
     "execution_count": 15,
     "metadata": {},
     "output_type": "execute_result"
    }
   ],
   "source": [
    "from sklearn.ensemble import RandomForestClassifier\n",
    "\n",
    "clf = RandomForestClassifier(n_estimators=10)\n",
    "clf.fit(data_train_os, target_train_os)"
   ]
  },
  {
   "cell_type": "code",
   "execution_count": 16,
   "metadata": {},
   "outputs": [
    {
     "name": "stdout",
     "output_type": "stream",
     "text": [
      "Normalized confusion matrix\n",
      "[[ 0.99684627  0.00315373]\n",
      " [ 0.98135236  0.01864764]]\n"
     ]
    },
    {
     "data": {
      "image/png": "[encoded data removed]",
      "text/plain": [
       "<matplotlib.figure.Figure at 0x12d7aa400>"
      ]
     },
     "metadata": {},
     "output_type": "display_data"
    }
   ],
   "source": [
    "from sklearn.metrics import confusion_matrix\n",
    "\n",
    "predict_val = clf.predict(data_val)\n",
    "cm = confusion_matrix(target_val, predict_val.round())\n",
    "plot_confusion_matrix(cm, ['No Payment Trouble', 'Payment Trouble'], normalize=True)"
   ]
  },
  {
   "cell_type": "code",
   "execution_count": 17,
   "metadata": {},
   "outputs": [
    {
     "data": {
      "text/plain": [
       "AdaBoostClassifier(algorithm='SAMME.R', base_estimator=None,\n",
       "          learning_rate=1.0, n_estimators=10, random_state=None)"
      ]
     },
     "execution_count": 17,
     "metadata": {},
     "output_type": "execute_result"
    }
   ],
   "source": [
    "from sklearn.ensemble import AdaBoostClassifier\n",
    "\n",
    "clf = AdaBoostClassifier(n_estimators=10)\n",
    "clf.fit(data_train_os, target_train_os)"
   ]
  },
  {
   "cell_type": "code",
   "execution_count": 18,
   "metadata": {},
   "outputs": [
    {
     "name": "stdout",
     "output_type": "stream",
     "text": [
      "Normalized confusion matrix\n",
      "[[ 0.68578702  0.31421298]\n",
      " [ 0.36873683  0.63126317]]\n"
     ]
    },
    {
     "data": {
      "image/png": "[encoded data removed]",
      "text/plain": [
       "<matplotlib.figure.Figure at 0x12f0d2cf8>"
      ]
     },
     "metadata": {},
     "output_type": "display_data"
    }
   ],
   "source": [
    "from sklearn.metrics import confusion_matrix\n",
    "\n",
    "predict_val = clf.predict(data_val)\n",
    "cm = confusion_matrix(target_val, predict_val.round())\n",
    "plot_confusion_matrix(cm, ['No Payment Trouble', 'Payment Trouble'], normalize=True)"
   ]
  },
  {
   "cell_type": "code",
   "execution_count": 19,
   "metadata": {},
   "outputs": [
    {
     "data": {
      "text/plain": [
       "GradientBoostingClassifier(criterion='friedman_mse', init=None,\n",
       "              learning_rate=0.1, loss='deviance', max_depth=3,\n",
       "              max_features=None, max_leaf_nodes=None,\n",
       "              min_impurity_decrease=0.0, min_impurity_split=None,\n",
       "              min_samples_leaf=1, min_samples_split=2,\n",
       "              min_weight_fraction_leaf=0.0, n_estimators=10,\n",
       "              presort='auto', random_state=None, subsample=1.0, verbose=0,\n",
       "              warm_start=False)"
      ]
     },
     "execution_count": 19,
     "metadata": {},
     "output_type": "execute_result"
    }
   ],
   "source": [
    "from sklearn.ensemble import GradientBoostingClassifier\n",
    "\n",
    "clf = GradientBoostingClassifier(n_estimators=10)\n",
    "clf.fit(data_train_os, target_train_os)"
   ]
  },
  {
   "cell_type": "code",
   "execution_count": 20,
   "metadata": {},
   "outputs": [
    {
     "name": "stdout",
     "output_type": "stream",
     "text": [
      "Normalized confusion matrix\n",
      "[[ 0.65047377  0.34952623]\n",
      " [ 0.32998216  0.67001784]]\n"
     ]
    },
    {
     "data": {
      "image/png": "[encoded data removed]",
      "text/plain": [
       "<matplotlib.figure.Figure at 0x12e7fc400>"
      ]
     },
     "metadata": {},
     "output_type": "display_data"
    }
   ],
   "source": [
    "from sklearn.metrics import confusion_matrix\n",
    "\n",
    "predict_val = clf.predict(data_val)\n",
    "cm = confusion_matrix(target_val, predict_val.round())\n",
    "plot_confusion_matrix(cm, ['No Payment Trouble', 'Payment Trouble'], normalize=True)"
   ]
  },
  {
   "cell_type": "code",
   "execution_count": null,
   "metadata": {},
   "outputs": [],
   "source": [
    "from sklearn.neighbors import KNeighborsClassifier\n",
    "\n",
    "clf = KNeighborsClassifier(n_neighbors=2)\n",
    "clf.fit(data_train_os, target_train_os)"
   ]
  },
  {
   "cell_type": "code",
   "execution_count": null,
   "metadata": {},
   "outputs": [],
   "source": [
    "from sklearn.metrics import confusion_matrix\n",
    "\n",
    "predict_val = clf.predict(data_val)\n",
    "cm = confusion_matrix(target_val, predict_val.round())\n",
    "plot_confusion_matrix(cm, ['No Payment Trouble', 'Payment Trouble'], normalize=True)"
   ]
  },
  {
   "cell_type": "code",
   "execution_count": null,
   "metadata": {},
   "outputs": [],
   "source": []
  }
 ],
 "metadata": {
  "kernelspec": {
   "display_name": "Python 3",
   "language": "python",
   "name": "python3"
  },
  "language_info": {
   "codemirror_mode": {
    "name": "ipython",
    "version": 3
   },
   "file_extension": ".py",
   "mimetype": "text/x-python",
   "name": "python",
   "nbconvert_exporter": "python",
   "pygments_lexer": "ipython3",
   "version": "3.6.4"
  }
 },
 "nbformat": 4,
 "nbformat_minor": 2
}
