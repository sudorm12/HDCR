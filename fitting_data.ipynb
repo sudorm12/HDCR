{
 "cells": [
  {
   "cell_type": "code",
   "execution_count": 1,
   "metadata": {},
   "outputs": [],
   "source": [
    "import logging\n",
    "from prepare_data import HCDALoader\n",
    "from sklearn.model_selection import KFold\n",
    "\n",
    "logging.basicConfig(level=logging.DEBUG, format='%(asctime)s - %(levelname)s - %(message)s')"
   ]
  },
  {
   "cell_type": "code",
   "execution_count": 2,
   "metadata": {},
   "outputs": [
    {
     "name": "stderr",
     "output_type": "stream",
     "text": [
      "2018-06-24 12:32:48,285 - DEBUG - Reading application_train.csv...\n",
      "2018-06-24 12:32:55,452 - DEBUG - Finished reading application_train.csv\n"
     ]
    }
   ],
   "source": [
    "loader = HCDALoader()\n",
    "\n",
    "# load index values from main table\n",
    "app_ix = loader.applications_train_index()"
   ]
  },
  {
   "cell_type": "code",
   "execution_count": 3,
   "metadata": {},
   "outputs": [
    {
     "name": "stdout",
     "output_type": "stream",
     "text": [
      "(230633,) (76878,)\n",
      "(230633,) (76878,)\n",
      "(230633,) (76878,)\n",
      "(230634,) (76877,)\n"
     ]
    },
    {
     "name": "stderr",
     "output_type": "stream",
     "text": [
      "/Library/Frameworks/Python.framework/Versions/3.6/lib/python3.6/site-packages/scipy/linalg/basic.py:1226: RuntimeWarning: internal gelsd driver lwork query error, required iwork dimension not returned. This is likely the result of LAPACK bug 0038, fixed in LAPACK 3.2.2 (released July 21, 2010). Falling back to 'gelss' driver.\n",
      "  warnings.warn(mesg, RuntimeWarning)\n"
     ]
    }
   ],
   "source": [
    "# fit model using k-fold verification\n",
    "kf = KFold(n_splits=4, shuffle=True)\n",
    "for fold_indexes in kf.split(app_ix):\n",
    "    print(fold_indexes[0].shape, fold_indexes[1].shape)\n",
    "    \n",
    "data_train, target_train, data_val, target_val = loader.load_train_val(fold_indexes[0], fold_indexes[1])"
   ]
  },
  {
   "cell_type": "code",
   "execution_count": 4,
   "metadata": {},
   "outputs": [
    {
     "data": {
      "text/plain": [
       "((230634, 238), (230634,), (76877, 238), (76877,))"
      ]
     },
     "execution_count": 4,
     "metadata": {},
     "output_type": "execute_result"
    }
   ],
   "source": [
    "data_train.shape, target_train.shape, data_val.shape, target_val.shape"
   ]
  },
  {
   "cell_type": "code",
   "execution_count": 5,
   "metadata": {},
   "outputs": [],
   "source": [
    "#from imblearn.combine import SMOTEENN\n",
    "\n",
    "#smote_enn = SMOTEENN()\n",
    "#data_train_os, target_train_os = smote_enn.fit_sample(data_train, target_train)"
   ]
  },
  {
   "cell_type": "code",
   "execution_count": 6,
   "metadata": {},
   "outputs": [],
   "source": [
    "from imblearn.over_sampling import RandomOverSampler\n",
    "ros = RandomOverSampler(random_state=0)\n",
    "data_train_os, target_train_os = ros.fit_sample(data_train, target_train)"
   ]
  },
  {
   "cell_type": "code",
   "execution_count": 7,
   "metadata": {},
   "outputs": [
    {
     "data": {
      "text/plain": [
       "(array([0, 1]), array([212026, 212026]))"
      ]
     },
     "execution_count": 7,
     "metadata": {},
     "output_type": "execute_result"
    }
   ],
   "source": [
    "import numpy as np\n",
    "\n",
    "np.unique(target_train_os, return_counts=True)"
   ]
  },
  {
   "cell_type": "code",
   "execution_count": 8,
   "metadata": {},
   "outputs": [
    {
     "name": "stderr",
     "output_type": "stream",
     "text": [
      "Using TensorFlow backend.\n"
     ]
    }
   ],
   "source": [
    "from keras.models import Sequential\n",
    "from keras.layers import Dense\n",
    "\n",
    "model = Sequential()\n",
    "\n",
    "model.add(Dense(units=64, activation='relu', input_dim=data_train_os.shape[1]))\n",
    "model.add(Dense(units=1, activation='sigmoid'))\n",
    "\n",
    "model.compile(loss='binary_crossentropy',\n",
    "              optimizer='sgd',\n",
    "              metrics=['accuracy'])"
   ]
  },
  {
   "cell_type": "code",
   "execution_count": 9,
   "metadata": {},
   "outputs": [
    {
     "name": "stdout",
     "output_type": "stream",
     "text": [
      "Train on 424052 samples, validate on 76877 samples\n",
      "Epoch 1/5\n",
      "424052/424052 [==============================] - 24s 56us/step - loss: 0.6014 - acc: 0.6775 - val_loss: 1.3231 - val_acc: 0.9179\n",
      "Epoch 2/5\n",
      "424052/424052 [==============================] - 23s 55us/step - loss: 0.5812 - acc: 0.6943 - val_loss: 4.2812 - val_acc: 0.7322\n",
      "Epoch 3/5\n",
      "424052/424052 [==============================] - 23s 54us/step - loss: 0.5715 - acc: 0.7021 - val_loss: 4.6390 - val_acc: 0.7097\n",
      "Epoch 4/5\n",
      "424052/424052 [==============================] - 23s 55us/step - loss: 0.5632 - acc: 0.7091 - val_loss: 2.4363 - val_acc: 0.8480\n",
      "Epoch 5/5\n",
      "424052/424052 [==============================] - 23s 55us/step - loss: 0.5550 - acc: 0.7158 - val_loss: 2.3401 - val_acc: 0.8541\n"
     ]
    },
    {
     "data": {
      "text/plain": [
       "<keras.callbacks.History at 0x114617048>"
      ]
     },
     "execution_count": 9,
     "metadata": {},
     "output_type": "execute_result"
    }
   ],
   "source": [
    "model.fit(data_train_os, target_train_os, epochs=5, batch_size=32, validation_data=(data_val, target_val))"
   ]
  },
  {
   "cell_type": "code",
   "execution_count": null,
   "metadata": {},
   "outputs": [],
   "source": []
  }
 ],
 "metadata": {
  "kernelspec": {
   "display_name": "Python 3",
   "language": "python",
   "name": "python3"
  },
  "language_info": {
   "codemirror_mode": {
    "name": "ipython",
    "version": 3
   },
   "file_extension": ".py",
   "mimetype": "text/x-python",
   "name": "python",
   "nbconvert_exporter": "python",
   "pygments_lexer": "ipython3",
   "version": "3.6.4"
  }
 },
 "nbformat": 4,
 "nbformat_minor": 2
}
