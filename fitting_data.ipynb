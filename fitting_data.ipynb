{
 "cells": [
  {
   "cell_type": "code",
   "execution_count": 2,
   "metadata": {},
   "outputs": [],
   "source": [
    "import logging\n",
    "import itertools\n",
    "from prepare_data import HCDALoader\n",
    "from sklearn.model_selection import KFold\n",
    "\n",
    "logging.basicConfig(level=logging.DEBUG, format='%(asctime)s - %(levelname)s - %(message)s')"
   ]
  },
  {
   "cell_type": "code",
   "execution_count": 3,
   "metadata": {},
   "outputs": [
    {
     "name": "stderr",
     "output_type": "stream",
     "text": [
      "2018-06-24 18:18:23,413 - DEBUG - Reading application_train.csv...\n",
      "2018-06-24 18:18:31,643 - DEBUG - Finished reading application_train.csv\n"
     ]
    }
   ],
   "source": [
    "loader = HCDALoader()\n",
    "\n",
    "# load index values from main table\n",
    "app_ix = loader.applications_train_index()"
   ]
  },
  {
   "cell_type": "code",
   "execution_count": 4,
   "metadata": {},
   "outputs": [
    {
     "name": "stdout",
     "output_type": "stream",
     "text": [
      "(230633,) (76878,)\n",
      "(230633,) (76878,)\n",
      "(230633,) (76878,)\n",
      "(230634,) (76877,)\n"
     ]
    },
    {
     "name": "stderr",
     "output_type": "stream",
     "text": [
      "/Library/Frameworks/Python.framework/Versions/3.6/lib/python3.6/site-packages/scipy/linalg/basic.py:1226: RuntimeWarning: internal gelsd driver lwork query error, required iwork dimension not returned. This is likely the result of LAPACK bug 0038, fixed in LAPACK 3.2.2 (released July 21, 2010). Falling back to 'gelss' driver.\n",
      "  warnings.warn(mesg, RuntimeWarning)\n"
     ]
    }
   ],
   "source": [
    "# fit model using k-fold verification\n",
    "kf = KFold(n_splits=4, shuffle=True)\n",
    "for fold_indexes in kf.split(app_ix):\n",
    "    print(fold_indexes[0].shape, fold_indexes[1].shape)\n",
    "    \n",
    "data_train, target_train, data_val, target_val = loader.load_train_val(fold_indexes[0], fold_indexes[1])"
   ]
  },
  {
   "cell_type": "code",
   "execution_count": 5,
   "metadata": {},
   "outputs": [
    {
     "data": {
      "text/plain": [
       "((230634, 225), (230634,), (76877, 225), (76877,))"
      ]
     },
     "execution_count": 5,
     "metadata": {},
     "output_type": "execute_result"
    }
   ],
   "source": [
    "data_train.shape, target_train.shape, data_val.shape, target_val.shape"
   ]
  },
  {
   "cell_type": "code",
   "execution_count": 6,
   "metadata": {},
   "outputs": [],
   "source": [
    "from imblearn.over_sampling import RandomOverSampler\n",
    "ros = RandomOverSampler()\n",
    "data_train_os, target_train_os = ros.fit_sample(data_train, target_train)"
   ]
  },
  {
   "cell_type": "code",
   "execution_count": 7,
   "metadata": {},
   "outputs": [
    {
     "data": {
      "text/plain": [
       "(array([0, 1]), array([212035, 212035]))"
      ]
     },
     "execution_count": 7,
     "metadata": {},
     "output_type": "execute_result"
    }
   ],
   "source": [
    "import numpy as np\n",
    "\n",
    "np.unique(target_train_os, return_counts=True)"
   ]
  },
  {
   "cell_type": "code",
   "execution_count": 8,
   "metadata": {},
   "outputs": [
    {
     "name": "stderr",
     "output_type": "stream",
     "text": [
      "Using TensorFlow backend.\n"
     ]
    },
    {
     "name": "stdout",
     "output_type": "stream",
     "text": [
      "Train on 424070 samples, validate on 76877 samples\n",
      "Epoch 1/5\n",
      "424070/424070 [==============================] - 25s 59us/step - loss: 0.6788 - acc: 0.6788 - val_loss: 0.6632 - val_acc: 0.6807\n",
      "Epoch 2/5\n",
      "424070/424070 [==============================] - 25s 59us/step - loss: 0.6280 - acc: 0.6957 - val_loss: 0.6250 - val_acc: 0.6928\n",
      "Epoch 3/5\n",
      "424070/424070 [==============================] - 24s 57us/step - loss: 0.6024 - acc: 0.7040 - val_loss: 0.6183 - val_acc: 0.6929\n",
      "Epoch 4/5\n",
      "424070/424070 [==============================] - 24s 57us/step - loss: 0.5869 - acc: 0.7095 - val_loss: 0.6417 - val_acc: 0.6659\n",
      "Epoch 5/5\n",
      "424070/424070 [==============================] - 27s 63us/step - loss: 0.5773 - acc: 0.7142 - val_loss: 0.5983 - val_acc: 0.6997\n"
     ]
    }
   ],
   "source": [
    "from models import LinearNN\n",
    "\n",
    "linear_nn = LinearNN(data_train_os.shape[1], l2_reg=1e-3)\n",
    "linear_nn.fit(data_train_os, target_train_os, data_val, target_val, num_epochs=5)"
   ]
  },
  {
   "cell_type": "code",
   "execution_count": 9,
   "metadata": {},
   "outputs": [],
   "source": [
    "import matplotlib.pyplot as plt\n",
    "\n",
    "def plot_confusion_matrix(cm, classes,\n",
    "                          normalize=False,\n",
    "                          title='Confusion matrix',\n",
    "                          cmap=plt.cm.Blues):\n",
    "    \"\"\"\n",
    "    This function prints and plots the confusion matrix.\n",
    "    Normalization can be applied by setting `normalize=True`.\n",
    "    \"\"\"\n",
    "    if normalize:\n",
    "        cm = cm.astype('float') / cm.sum(axis=1)[:, np.newaxis]\n",
    "        print(\"Normalized confusion matrix\")\n",
    "    else:\n",
    "        print('Confusion matrix, without normalization')\n",
    "\n",
    "    print(cm)\n",
    "\n",
    "    plt.imshow(cm, interpolation='nearest', cmap=cmap)\n",
    "    plt.title(title)\n",
    "    plt.colorbar()\n",
    "    tick_marks = np.arange(len(classes))\n",
    "    plt.xticks(tick_marks, classes, rotation=45)\n",
    "    plt.yticks(tick_marks, classes)\n",
    "\n",
    "    fmt = '.2f' if normalize else 'd'\n",
    "    thresh = cm.max() / 2.\n",
    "    for i, j in itertools.product(range(cm.shape[0]), range(cm.shape[1])):\n",
    "        plt.text(j, i, format(cm[i, j], fmt),\n",
    "                 horizontalalignment=\"center\",\n",
    "                 color=\"white\" if cm[i, j] > thresh else \"black\")\n",
    "\n",
    "    plt.tight_layout()\n",
    "    plt.ylabel('True label')\n",
    "    plt.xlabel('Predicted label')"
   ]
  },
  {
   "cell_type": "code",
   "execution_count": 13,
   "metadata": {},
   "outputs": [
    {
     "name": "stdout",
     "output_type": "stream",
     "text": [
      "Normalized confusion matrix\n",
      "[[ 0.70335876  0.29664124]\n",
      " [ 0.34179248  0.65820752]]\n"
     ]
    },
    {
     "data": {
      "image/png": "[encoded data removed]",
      "text/plain": [
       "<matplotlib.figure.Figure at 0x1244ea828>"
      ]
     },
     "metadata": {},
     "output_type": "display_data"
    }
   ],
   "source": [
    "from sklearn.metrics import confusion_matrix\n",
    "\n",
    "predict_val = linear_nn.predict(data_val)\n",
    "cm = confusion_matrix(target_val, predict_val.round())\n",
    "plot_confusion_matrix(cm, ['No Payment Trouble', 'Payment Trouble'], normalize=True)"
   ]
  },
  {
   "cell_type": "code",
   "execution_count": 12,
   "metadata": {},
   "outputs": [
    {
     "data": {
      "text/plain": [
       "((array([ 0.,  1.], dtype=float32), array([51821, 25056])),\n",
       " (array([  4.58533222e-13,   5.61111380e-10,   4.66813299e-09, ...,\n",
       "           9.99993324e-01,   9.99995232e-01,   9.99995947e-01], dtype=float32),\n",
       "  array([1, 1, 1, ..., 1, 1, 1])))"
      ]
     },
     "execution_count": 12,
     "metadata": {},
     "output_type": "execute_result"
    }
   ],
   "source": [
    "np.unique(predict_val, return_counts=True), np.unique(predict_val, return_counts=True)"
   ]
  },
  {
   "cell_type": "code",
   "execution_count": null,
   "metadata": {},
   "outputs": [],
   "source": []
  }
 ],
 "metadata": {
  "kernelspec": {
   "display_name": "Python 3",
   "language": "python",
   "name": "python3"
  },
  "language_info": {
   "codemirror_mode": {
    "name": "ipython",
    "version": 3
   },
   "file_extension": ".py",
   "mimetype": "text/x-python",
   "name": "python",
   "nbconvert_exporter": "python",
   "pygments_lexer": "ipython3",
   "version": "3.6.4"
  }
 },
 "nbformat": 4,
 "nbformat_minor": 2
}
