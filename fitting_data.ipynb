{
 "cells": [
  {
   "cell_type": "code",
   "execution_count": 2,
   "metadata": {},
   "outputs": [
    {
     "name": "stdout",
     "output_type": "stream",
     "text": [
      "The autoreload extension is already loaded. To reload it, use:\n",
      "  %reload_ext autoreload\n"
     ]
    },
    {
     "name": "stderr",
     "output_type": "stream",
     "text": [
      "Using TensorFlow backend.\n"
     ]
    }
   ],
   "source": [
    "%load_ext autoreload\n",
    "%autoreload 2\n",
    "\n",
    "import logging, warnings\n",
    "import itertools\n",
    "from sklearn.model_selection import KFold\n",
    "import numpy as np\n",
    "import keras\n",
    "\n",
    "logging.basicConfig(level=logging.DEBUG, format='%(asctime)s - %(levelname)s - %(message)s')\n",
    "warnings.filterwarnings(action=\"ignore\", module=\"scipy\", message=\"^internal gelsd\")"
   ]
  },
  {
   "cell_type": "code",
   "execution_count": 3,
   "metadata": {},
   "outputs": [
    {
     "name": "stdout",
     "output_type": "stream",
     "text": [
      "[name: \"/device:CPU:0\"\n",
      "device_type: \"CPU\"\n",
      "memory_limit: 268435456\n",
      "locality {\n",
      "}\n",
      "incarnation: 17800721421942902567\n",
      "]\n"
     ]
    }
   ],
   "source": [
    "from tensorflow.python.client import device_lib\n",
    "print(device_lib.list_local_devices())"
   ]
  },
  {
   "cell_type": "markdown",
   "metadata": {},
   "source": [
    "------\n",
    "## Performace Evaluation Functions"
   ]
  },
  {
   "cell_type": "code",
   "execution_count": 4,
   "metadata": {
    "scrolled": true
   },
   "outputs": [],
   "source": [
    "import matplotlib.pyplot as plt\n",
    "from sklearn.metrics import confusion_matrix\n",
    "\n",
    "def plot_confusion_matrix(cm, classes,\n",
    "                          normalize=False,\n",
    "                          title='Confusion matrix',\n",
    "                          cmap=plt.cm.Blues):\n",
    "    \"\"\"\n",
    "    This function prints and plots the confusion matrix.\n",
    "    Normalization can be applied by setting `normalize=True`.\n",
    "    \"\"\"\n",
    "    if normalize:\n",
    "        cm = cm.astype('float') / cm.sum(axis=1)[:, np.newaxis]\n",
    "        print(\"Normalized confusion matrix\")\n",
    "    else:\n",
    "        print('Confusion matrix, without normalization')\n",
    "\n",
    "    print(cm)\n",
    "\n",
    "    plt.imshow(cm, interpolation='nearest', cmap=cmap)\n",
    "    plt.title(title)\n",
    "    plt.colorbar()\n",
    "    tick_marks = np.arange(len(classes))\n",
    "    plt.xticks(tick_marks, classes, rotation=45)\n",
    "    plt.yticks(tick_marks, classes)\n",
    "\n",
    "    fmt = '.2f' if normalize else 'd'\n",
    "    thresh = cm.max() / 2.\n",
    "    for i, j in itertools.product(range(cm.shape[0]), range(cm.shape[1])):\n",
    "        plt.text(j, i, format(cm[i, j], fmt),\n",
    "                 horizontalalignment=\"center\",\n",
    "                 color=\"white\" if cm[i, j] > thresh else \"black\")\n",
    "\n",
    "    plt.tight_layout()\n",
    "    plt.ylabel('True label')\n",
    "    plt.xlabel('Predicted label')"
   ]
  },
  {
   "cell_type": "markdown",
   "metadata": {},
   "source": [
    "-----\n",
    "## Load Data"
   ]
  },
  {
   "cell_type": "code",
   "execution_count": 3,
   "metadata": {},
   "outputs": [
    {
     "name": "stderr",
     "output_type": "stream",
     "text": [
      "2018-07-10 01:34:18,594 - DEBUG - Initializing data loader\n",
      "2018-07-10 01:34:18,595 - DEBUG - Reading application_train.csv...\n",
      "2018-07-10 01:34:23,723 - DEBUG - Finished reading application_train.csv\n",
      "2018-07-10 01:34:23,724 - DEBUG - Loading bureau data...\n",
      "2018-07-10 01:34:30,227 - DEBUG - Loading previous application data...\n",
      "2018-07-10 01:34:52,182 - DEBUG - Done\n"
     ]
    }
   ],
   "source": [
    "loader = HCDRLoader()\n",
    "\n",
    "# load index values from main table\n",
    "app_ix = loader.applications_train_index()\n",
    "sequence_length = 25"
   ]
  },
  {
   "cell_type": "code",
   "execution_count": 4,
   "metadata": {},
   "outputs": [
    {
     "name": "stderr",
     "output_type": "stream",
     "text": [
      "2018-07-10 01:34:52,251 - DEBUG - Preparing applications data...\n",
      "2018-07-10 01:34:54,578 - DEBUG - Performing soft impute on current home info...\n",
      "2018-07-10 01:35:00,457 - DEBUG - Running PCA on current home info...\n",
      "2018-07-10 01:35:02,443 - DEBUG - Performing linear regression on goods price and annuity amount...\n",
      "2018-07-10 01:35:03,903 - DEBUG - Preparing applications data...\n",
      "2018-07-10 01:35:04,673 - DEBUG - Performing soft impute on current home info...\n",
      "2018-07-10 01:35:06,151 - DEBUG - Running PCA on current home info...\n",
      "2018-07-10 01:35:06,281 - DEBUG - Performing linear regression on goods price and annuity amount...\n",
      "2018-07-10 01:35:06,301 - DEBUG - Collating training data...\n",
      "2018-07-10 01:35:10,021 - DEBUG - Collating validation data...\n",
      "2018-07-10 01:35:11,680 - DEBUG - Scaling train and validation data...\n",
      "2018-07-10 01:35:13,249 - DEBUG - Done\n",
      "2018-07-10 01:35:13,254 - DEBUG - Reading credit card balance file...\n",
      "2018-07-10 01:35:25,859 - DEBUG - Preparing credit card balance data...\n",
      "2018-07-10 01:35:47,912 - DEBUG - Sparsifying...\n",
      "2018-07-10 01:35:52,219 - DEBUG - Done\n",
      "2018-07-10 01:35:52,225 - DEBUG - Reading credit card balance file...\n",
      "2018-07-10 01:36:01,581 - DEBUG - Preparing credit card balance data...\n",
      "2018-07-10 01:36:08,020 - DEBUG - Sparsifying...\n",
      "2018-07-10 01:36:09,649 - DEBUG - Done\n"
     ]
    }
   ],
   "source": [
    "# fit model using k-fold verification\n",
    "kf = KFold(n_splits=4, shuffle=True)\n",
    "for fold_indexes in kf.split(app_ix):\n",
    "    pass #print(fold_indexes[0].shape, fold_indexes[1].shape)\n",
    "    \n",
    "data_train, target_train, data_val, target_val = loader.load_train_val(fold_indexes[0], fold_indexes[1])\n",
    "cc_data_train = loader.read_credit_card_balance(app_ix.values[fold_indexes[0]], t_max=sequence_length)\n",
    "cc_data_val = loader.read_credit_card_balance(app_ix.values[fold_indexes[1]], t_max=sequence_length)"
   ]
  },
  {
   "cell_type": "code",
   "execution_count": 5,
   "metadata": {},
   "outputs": [
    {
     "data": {
      "text/plain": [
       "((230634, 225), (230634,), (76877, 225), (76877,), (230634, 650), (76877, 650))"
      ]
     },
     "execution_count": 5,
     "metadata": {},
     "output_type": "execute_result"
    }
   ],
   "source": [
    "data_train.shape, target_train.shape, data_val.shape, target_val.shape, cc_data_train.shape, cc_data_val.shape"
   ]
  },
  {
   "cell_type": "code",
   "execution_count": 6,
   "metadata": {},
   "outputs": [],
   "source": [
    "sequence_features = np.int(cc_data_train.shape[1] / sequence_length)\n",
    "meta_features = np.int(data_train.shape[1])"
   ]
  },
  {
   "cell_type": "code",
   "execution_count": 7,
   "metadata": {},
   "outputs": [],
   "source": [
    "from imblearn.over_sampling import RandomOverSampler\n",
    "ros = RandomOverSampler()\n",
    "data_train_os, target_train_os = ros.fit_sample(data_train, target_train)"
   ]
  },
  {
   "cell_type": "code",
   "execution_count": 8,
   "metadata": {},
   "outputs": [
    {
     "data": {
      "text/plain": [
       "(array([0, 1]), array([211947, 211947]))"
      ]
     },
     "execution_count": 8,
     "metadata": {},
     "output_type": "execute_result"
    }
   ],
   "source": [
    "np.unique(target_train_os, return_counts=True)"
   ]
  },
  {
   "cell_type": "code",
   "execution_count": 9,
   "metadata": {},
   "outputs": [],
   "source": [
    "ros_index = RandomOverSampler()\n",
    "data_train_os_index, target_train_os = ros_index.fit_sample(np.arange(data_train.shape[0]).reshape(-1, 1), target_train)"
   ]
  },
  {
   "cell_type": "code",
   "execution_count": 10,
   "metadata": {},
   "outputs": [],
   "source": [
    "data_train_os = data_train[data_train_os_index.squeeze()]\n",
    "cc_data_train_os = cc_data_train[data_train_os_index.squeeze()]"
   ]
  },
  {
   "cell_type": "code",
   "execution_count": 11,
   "metadata": {},
   "outputs": [
    {
     "data": {
      "text/plain": [
       "(array([0, 1]), array([211947, 211947]))"
      ]
     },
     "execution_count": 11,
     "metadata": {},
     "output_type": "execute_result"
    }
   ],
   "source": [
    "np.unique(target_train_os, return_counts=True)"
   ]
  },
  {
   "cell_type": "code",
   "execution_count": 3,
   "metadata": {},
   "outputs": [],
   "source": [
    "import ast\n",
    "\n",
    "with open('grid_search_params.txt','r') as f:\n",
    "    dict_from_file = ast.literal_eval(f.read())"
   ]
  },
  {
   "cell_type": "code",
   "execution_count": 4,
   "metadata": {},
   "outputs": [
    {
     "data": {
      "text/plain": [
       "{'comb_dense_layers': [1],\n",
       " 'comb_dense_width': [64],\n",
       " 'comb_dropout': [0.2],\n",
       " 'comb_l2_reg': [1e-05],\n",
       " 'lstm_l2_reg': [1e-06, 1e-07, 1e-08],\n",
       " 'lstm_units': [16, 32, 64],\n",
       " 'meta_dense_layers': [1],\n",
       " 'meta_dense_width': [64],\n",
       " 'meta_dropout': [0.2],\n",
       " 'meta_l2_reg': [1e-05],\n",
       " 'sequence_dense_layers': [0],\n",
       " 'sequence_dense_width': [8],\n",
       " 'sequence_l2_reg': [0]}"
      ]
     },
     "execution_count": 4,
     "metadata": {},
     "output_type": "execute_result"
    }
   ],
   "source": [
    "dict_from_file"
   ]
  },
  {
   "cell_type": "markdown",
   "metadata": {},
   "source": [
    "-----"
   ]
  },
  {
   "cell_type": "markdown",
   "metadata": {},
   "source": [
    "## Linear Deep Neural Network"
   ]
  },
  {
   "cell_type": "code",
   "execution_count": 7,
   "metadata": {},
   "outputs": [
    {
     "name": "stderr",
     "output_type": "stream",
     "text": [
      "Using TensorFlow backend.\n"
     ]
    },
    {
     "name": "stdout",
     "output_type": "stream",
     "text": [
      "Train on 423952 samples, validate on 76877 samples\n",
      "Epoch 1/5\n",
      "423952/423952 [==============================] - 26s 62us/step - loss: 0.6169 - acc: 0.6845 - val_loss: 0.6704 - val_acc: 0.6429\n",
      "Epoch 2/5\n",
      "423952/423952 [==============================] - 25s 59us/step - loss: 0.5980 - acc: 0.6908 - val_loss: 0.6702 - val_acc: 0.6482\n",
      "Epoch 3/5\n",
      "423952/423952 [==============================] - 25s 59us/step - loss: 0.5955 - acc: 0.6940 - val_loss: 0.6264 - val_acc: 0.6759\n",
      "Epoch 4/5\n",
      "423952/423952 [==============================] - 26s 61us/step - loss: 0.5942 - acc: 0.6945 - val_loss: 0.6788 - val_acc: 0.6420\n",
      "Epoch 5/5\n",
      "423952/423952 [==============================] - 28s 66us/step - loss: 0.5935 - acc: 0.6955 - val_loss: 0.6049 - val_acc: 0.6907\n"
     ]
    }
   ],
   "source": [
    "from models import LinearNN\n",
    "\n",
    "linear_nn = LinearNN(data_train_os.shape[1], l2_reg=1e-3)\n",
    "linear_nn.fit(data_train_os, target_train_os, data_val, target_val, num_epochs=5)"
   ]
  },
  {
   "cell_type": "code",
   "execution_count": 9,
   "metadata": {},
   "outputs": [
    {
     "name": "stdout",
     "output_type": "stream",
     "text": [
      "Normalized confusion matrix\n",
      "[[ 0.69299958  0.30700042]\n",
      " [ 0.33517107  0.66482893]]\n"
     ]
    },
    {
     "data": {
      "image/png": "[encoded data removed]",
      "text/plain": [
       "<matplotlib.figure.Figure at 0x105072e80>"
      ]
     },
     "metadata": {},
     "output_type": "display_data"
    }
   ],
   "source": [
    "from sklearn.metrics import confusion_matrix\n",
    "\n",
    "predict_val = linear_nn.predict(data_val)\n",
    "cm = confusion_matrix(target_val, predict_val.round())\n",
    "plot_confusion_matrix(cm, ['No Payment Trouble', 'Payment Trouble'], normalize=True)\n"
   ]
  },
  {
   "cell_type": "code",
   "execution_count": 12,
   "metadata": {},
   "outputs": [
    {
     "data": {
      "text/plain": [
       "((array([ 0.,  1.], dtype=float32), array([51821, 25056])),\n",
       " (array([  4.58533222e-13,   5.61111380e-10,   4.66813299e-09, ...,\n",
       "           9.99993324e-01,   9.99995232e-01,   9.99995947e-01], dtype=float32),\n",
       "  array([1, 1, 1, ..., 1, 1, 1])))"
      ]
     },
     "execution_count": 12,
     "metadata": {},
     "output_type": "execute_result"
    }
   ],
   "source": [
    "np.unique(predict_val, return_counts=True), np.unique(predict_val, return_counts=True)"
   ]
  },
  {
   "cell_type": "markdown",
   "metadata": {},
   "source": [
    "-----\n",
    "## Random Forest Classifier"
   ]
  },
  {
   "cell_type": "code",
   "execution_count": 15,
   "metadata": {},
   "outputs": [
    {
     "data": {
      "text/plain": [
       "RandomForestClassifier(bootstrap=True, class_weight=None, criterion='gini',\n",
       "            max_depth=None, max_features='auto', max_leaf_nodes=None,\n",
       "            min_impurity_decrease=0.0, min_impurity_split=None,\n",
       "            min_samples_leaf=1, min_samples_split=2,\n",
       "            min_weight_fraction_leaf=0.0, n_estimators=10, n_jobs=1,\n",
       "            oob_score=False, random_state=None, verbose=0,\n",
       "            warm_start=False)"
      ]
     },
     "execution_count": 15,
     "metadata": {},
     "output_type": "execute_result"
    }
   ],
   "source": [
    "from sklearn.ensemble import RandomForestClassifier\n",
    "\n",
    "clf = RandomForestClassifier(n_estimators=10)\n",
    "clf.fit(data_train_os, target_train_os)"
   ]
  },
  {
   "cell_type": "code",
   "execution_count": 16,
   "metadata": {},
   "outputs": [
    {
     "name": "stdout",
     "output_type": "stream",
     "text": [
      "Normalized confusion matrix\n",
      "[[ 0.99684627  0.00315373]\n",
      " [ 0.98135236  0.01864764]]\n"
     ]
    },
    {
     "data": {
      "image/png": "[encoded data removed]",
      "text/plain": [
       "<matplotlib.figure.Figure at 0x12d7aa400>"
      ]
     },
     "metadata": {},
     "output_type": "display_data"
    }
   ],
   "source": [
    "from sklearn.metrics import confusion_matrix\n",
    "\n",
    "predict_val = clf.predict(data_val)\n",
    "cm = confusion_matrix(target_val, predict_val.round())\n",
    "plot_confusion_matrix(cm, ['No Payment Trouble', 'Payment Trouble'], normalize=True)"
   ]
  },
  {
   "cell_type": "markdown",
   "metadata": {},
   "source": [
    "-----\n",
    "## AdaBoost Classifier"
   ]
  },
  {
   "cell_type": "code",
   "execution_count": 17,
   "metadata": {},
   "outputs": [
    {
     "data": {
      "text/plain": [
       "AdaBoostClassifier(algorithm='SAMME.R', base_estimator=None,\n",
       "          learning_rate=1.0, n_estimators=10, random_state=None)"
      ]
     },
     "execution_count": 17,
     "metadata": {},
     "output_type": "execute_result"
    }
   ],
   "source": [
    "from sklearn.ensemble import AdaBoostClassifier\n",
    "\n",
    "clf = AdaBoostClassifier(n_estimators=10)\n",
    "clf.fit(data_train_os, target_train_os)"
   ]
  },
  {
   "cell_type": "code",
   "execution_count": 18,
   "metadata": {},
   "outputs": [
    {
     "name": "stdout",
     "output_type": "stream",
     "text": [
      "Normalized confusion matrix\n",
      "[[ 0.68578702  0.31421298]\n",
      " [ 0.36873683  0.63126317]]\n"
     ]
    },
    {
     "data": {
      "image/png": "[encoded data removed]",
      "text/plain": [
       "<matplotlib.figure.Figure at 0x12f0d2cf8>"
      ]
     },
     "metadata": {},
     "output_type": "display_data"
    }
   ],
   "source": [
    "from sklearn.metrics import confusion_matrix\n",
    "\n",
    "predict_val = clf.predict(data_val)\n",
    "cm = confusion_matrix(target_val, predict_val.round())\n",
    "plot_confusion_matrix(cm, ['No Payment Trouble', 'Payment Trouble'], normalize=True)"
   ]
  },
  {
   "cell_type": "markdown",
   "metadata": {},
   "source": [
    "-----\n",
    "## Gradient Boosting Classifier"
   ]
  },
  {
   "cell_type": "code",
   "execution_count": 19,
   "metadata": {},
   "outputs": [
    {
     "data": {
      "text/plain": [
       "GradientBoostingClassifier(criterion='friedman_mse', init=None,\n",
       "              learning_rate=0.1, loss='deviance', max_depth=3,\n",
       "              max_features=None, max_leaf_nodes=None,\n",
       "              min_impurity_decrease=0.0, min_impurity_split=None,\n",
       "              min_samples_leaf=1, min_samples_split=2,\n",
       "              min_weight_fraction_leaf=0.0, n_estimators=10,\n",
       "              presort='auto', random_state=None, subsample=1.0, verbose=0,\n",
       "              warm_start=False)"
      ]
     },
     "execution_count": 19,
     "metadata": {},
     "output_type": "execute_result"
    }
   ],
   "source": [
    "from sklearn.ensemble import GradientBoostingClassifier\n",
    "\n",
    "clf = GradientBoostingClassifier(n_estimators=10)\n",
    "clf.fit(data_train_os, target_train_os)"
   ]
  },
  {
   "cell_type": "code",
   "execution_count": 20,
   "metadata": {},
   "outputs": [
    {
     "name": "stdout",
     "output_type": "stream",
     "text": [
      "Normalized confusion matrix\n",
      "[[ 0.65047377  0.34952623]\n",
      " [ 0.32998216  0.67001784]]\n"
     ]
    },
    {
     "data": {
      "image/png": "[encoded data removed]",
      "text/plain": [
       "<matplotlib.figure.Figure at 0x12e7fc400>"
      ]
     },
     "metadata": {},
     "output_type": "display_data"
    }
   ],
   "source": [
    "from sklearn.metrics import confusion_matrix\n",
    "\n",
    "predict_val = clf.predict(data_val)\n",
    "cm = confusion_matrix(target_val, predict_val.round())\n",
    "plot_confusion_matrix(cm, ['No Payment Trouble', 'Payment Trouble'], normalize=True)"
   ]
  },
  {
   "cell_type": "markdown",
   "metadata": {},
   "source": [
    "-----\n",
    "## K-Nearest Neighbors Classifier\n",
    "### Don't run this one"
   ]
  },
  {
   "cell_type": "code",
   "execution_count": null,
   "metadata": {},
   "outputs": [],
   "source": [
    "from sklearn.neighbors import KNeighborsClassifier\n",
    "\n",
    "clf = KNeighborsClassifier(n_neighbors=2)\n",
    "clf.fit(data_train_os, target_train_os)"
   ]
  },
  {
   "cell_type": "code",
   "execution_count": null,
   "metadata": {},
   "outputs": [],
   "source": [
    "from sklearn.metrics import confusion_matrix\n",
    "\n",
    "predict_val = clf.predict(data_val)\n",
    "cm = confusion_matrix(target_val, predict_val.round())\n",
    "plot_confusion_matrix(cm, ['No Payment Trouble', 'Payment Trouble'], normalize=True)"
   ]
  },
  {
   "cell_type": "markdown",
   "metadata": {},
   "source": [
    "-----\n",
    "## LSTM with Metadata"
   ]
  },
  {
   "cell_type": "code",
   "execution_count": 14,
   "metadata": {},
   "outputs": [
    {
     "name": "stdout",
     "output_type": "stream",
     "text": [
      "__________________________________________________________________________________________________\n",
      "Layer (type)                    Output Shape         Param #     Connected to                     \n",
      "==================================================================================================\n",
      "lstm_input (InputLayer)         (None, 650)          0                                            \n",
      "__________________________________________________________________________________________________\n",
      "reshaped_input (Reshape)        (None, 25, 26)       0           lstm_input[0][0]                 \n",
      "__________________________________________________________________________________________________\n",
      "lstm (LSTM)                     (None, 8)            1120        reshaped_input[0][0]             \n",
      "__________________________________________________________________________________________________\n",
      "meta_input (InputLayer)         (None, 225)          0                                            \n",
      "__________________________________________________________________________________________________\n",
      "seq_dense_0 (Dense)             (None, 32)           288         lstm[0][0]                       \n",
      "__________________________________________________________________________________________________\n",
      "meta_dense_0 (Dense)            (None, 32)           7232        meta_input[0][0]                 \n",
      "__________________________________________________________________________________________________\n",
      "concatenate (Concatenate)       (None, 64)           0           seq_dense_0[0][0]                \n",
      "                                                                 meta_dense_0[0][0]               \n",
      "__________________________________________________________________________________________________\n",
      "combined_dense_0 (Dense)        (None, 32)           2080        concatenate[0][0]                \n",
      "__________________________________________________________________________________________________\n",
      "main_output (Dense)             (None, 1)            33          combined_dense_0[0][0]           \n",
      "__________________________________________________________________________________________________\n",
      "lstm_output (Dense)             (None, 1)            33          seq_dense_0[0][0]                \n",
      "==================================================================================================\n",
      "Total params: 10,786\n",
      "Trainable params: 10,786\n",
      "Non-trainable params: 0\n",
      "__________________________________________________________________________________________________\n"
     ]
    }
   ],
   "source": [
    "from models import LSTMWithMetadata\n",
    "\n",
    "lstm_nn = LSTMWithMetadata(sequence_length, sequence_features, meta_features)\n",
    "lstm_nn.model_summary()"
   ]
  },
  {
   "cell_type": "code",
   "execution_count": 15,
   "metadata": {},
   "outputs": [
    {
     "name": "stdout",
     "output_type": "stream",
     "text": [
      "Train on 423956 samples, validate on 76877 samples\n",
      "Epoch 1/2\n",
      "423956/423956 [==============================] - 333s 785us/step - loss: 1.7612 - main_output_loss: 1.4499 - lstm_output_loss: 1.5567 - main_output_acc: 0.6667 - lstm_output_acc: 0.5121 - val_loss: 2.1830 - val_main_output_loss: 1.8150 - val_lstm_output_loss: 1.8400 - val_main_output_acc: 0.6442 - val_lstm_output_acc: 0.8266\n",
      "Epoch 2/2\n",
      "423956/423956 [==============================] - 332s 782us/step - loss: 1.6315 - main_output_loss: 1.3472 - lstm_output_loss: 1.4215 - main_output_acc: 0.6826 - lstm_output_acc: 0.5168 - val_loss: 1.3203 - val_main_output_loss: 1.0449 - val_lstm_output_loss: 1.3770 - val_main_output_acc: 0.6919 - val_lstm_output_acc: 0.8407\n"
     ]
    }
   ],
   "source": [
    "history = lstm_nn.fit(cc_data_train_os, data_train_os, target_train_os,\n",
    "                      cc_data_val, data_val, target_val,\n",
    "                      num_epochs=2)"
   ]
  },
  {
   "cell_type": "code",
   "execution_count": 16,
   "metadata": {},
   "outputs": [],
   "source": [
    "predict_val = lstm_nn.predict(cc_data_val, data_val)"
   ]
  },
  {
   "cell_type": "code",
   "execution_count": 19,
   "metadata": {},
   "outputs": [
    {
     "name": "stderr",
     "output_type": "stream",
     "text": [
      "2018-07-09 10:09:52,107 - DEBUG - findfont: Matching :family=sans-serif:style=normal:variant=normal:weight=normal:stretch=normal:size=12.0 to DejaVu Sans ('c:\\\\users\\\\meeting\\\\appdata\\\\local\\\\programs\\\\python\\\\python36\\\\lib\\\\site-packages\\\\matplotlib\\\\mpl-data\\\\fonts\\\\ttf\\\\DejaVuSans.ttf') with score of 0.050000\n",
      "2018-07-09 10:09:52,138 - DEBUG - findfont: Matching :family=sans-serif:style=normal:variant=normal:weight=normal:stretch=normal:size=10.0 to DejaVu Sans ('c:\\\\users\\\\meeting\\\\appdata\\\\local\\\\programs\\\\python\\\\python36\\\\lib\\\\site-packages\\\\matplotlib\\\\mpl-data\\\\fonts\\\\ttf\\\\DejaVuSans.ttf') with score of 0.050000\n"
     ]
    },
    {
     "name": "stdout",
     "output_type": "stream",
     "text": [
      "Normalized confusion matrix\n",
      "[[0.69656899 0.30343101]\n",
      " [0.36148484 0.63851516]]\n"
     ]
    },
    {
     "data": {
      "image/png": "[encoded data removed]",
      "text/plain": [
       "<Figure size 432x288 with 2 Axes>"
      ]
     },
     "metadata": {},
     "output_type": "display_data"
    }
   ],
   "source": [
    "from sklearn.metrics import confusion_matrix\n",
    "\n",
    "cm = confusion_matrix(target_val, predict_val[0].round())\n",
    "plot_confusion_matrix(cm, ['No Payment Trouble', 'Payment Trouble'], normalize=True)"
   ]
  },
  {
   "cell_type": "code",
   "execution_count": 20,
   "metadata": {},
   "outputs": [
    {
     "data": {
      "text/plain": [
       "array([[49253, 21455],\n",
       "       [ 2230,  3939]], dtype=int64)"
      ]
     },
     "execution_count": 20,
     "metadata": {},
     "output_type": "execute_result"
    }
   ],
   "source": [
    "cm"
   ]
  },
  {
   "cell_type": "markdown",
   "metadata": {},
   "source": [
    "----\n",
    "## Raw LSTM Model"
   ]
  },
  {
   "cell_type": "code",
   "execution_count": 12,
   "metadata": {},
   "outputs": [],
   "source": [
    "from keras.models import Sequential, Model\n",
    "from keras.layers import LSTM, Dense, Input, Reshape, concatenate\n",
    "from keras.regularizers import l2\n",
    "\n",
    "num_dense_layers=1\n",
    "meta_l2_reg = 1e-5\n",
    "comb_l2_reg = 1e-5\n",
    "\n",
    "lstm_input = Input(shape=(sequence_length*sequence_features,), name='lstm_input')\n",
    "reshaped_input = Reshape((sequence_length, sequence_features), name='reshaped_input')(lstm_input)\n",
    "lstm = LSTM(8, activation='relu', go_backwards=False, name='lstm')(reshaped_input)\n",
    "lstm_output = Dense(1, activation='sigmoid', name='lstm_output')(lstm)\n",
    "meta_input = Input(shape=(meta_features,), name='meta_input')\n",
    "meta_dense = Dense(64, activation='relu', kernel_regularizer=l2(meta_l2_reg), name='meta_dense')(meta_input)\n",
    "x = concatenate([lstm, meta_dense], name='concatenate')\n",
    "for i in range(num_dense_layers):\n",
    "    x = Dense(32, activation='relu', kernel_regularizer=l2(comb_l2_reg), name='combined_dense_{}'.format(i))(x)\n",
    "main_output = Dense(1, activation='sigmoid', name='main_output')(x)\n",
    "\n",
    "lstm_model = Model(inputs=[lstm_input, meta_input], outputs=[main_output, lstm_output])\n",
    "\n",
    "lstm_model.compile(optimizer='rmsprop',\n",
    "                   loss='binary_crossentropy',\n",
    "                   loss_weights=[1., 0.2],\n",
    "                   metrics=['accuracy'])\n"
   ]
  },
  {
   "cell_type": "code",
   "execution_count": 13,
   "metadata": {},
   "outputs": [
    {
     "name": "stdout",
     "output_type": "stream",
     "text": [
      "__________________________________________________________________________________________________\n",
      "Layer (type)                    Output Shape         Param #     Connected to                     \n",
      "==================================================================================================\n",
      "lstm_input (InputLayer)         (None, 650)          0                                            \n",
      "__________________________________________________________________________________________________\n",
      "reshaped_input (Reshape)        (None, 25, 26)       0           lstm_input[0][0]                 \n",
      "__________________________________________________________________________________________________\n",
      "meta_input (InputLayer)         (None, 225)          0                                            \n",
      "__________________________________________________________________________________________________\n",
      "lstm (LSTM)                     (None, 8)            1120        reshaped_input[0][0]             \n",
      "__________________________________________________________________________________________________\n",
      "meta_dense (Dense)              (None, 64)           14464       meta_input[0][0]                 \n",
      "__________________________________________________________________________________________________\n",
      "concatenate (Concatenate)       (None, 72)           0           lstm[0][0]                       \n",
      "                                                                 meta_dense[0][0]                 \n",
      "__________________________________________________________________________________________________\n",
      "combined_dense_0 (Dense)        (None, 32)           2336        concatenate[0][0]                \n",
      "__________________________________________________________________________________________________\n",
      "main_output (Dense)             (None, 1)            33          combined_dense_0[0][0]           \n",
      "__________________________________________________________________________________________________\n",
      "lstm_output (Dense)             (None, 1)            9           lstm[0][0]                       \n",
      "==================================================================================================\n",
      "Total params: 17,962\n",
      "Trainable params: 17,962\n",
      "Non-trainable params: 0\n",
      "__________________________________________________________________________________________________\n"
     ]
    }
   ],
   "source": [
    "lstm_model.summary()"
   ]
  },
  {
   "cell_type": "code",
   "execution_count": 14,
   "metadata": {},
   "outputs": [
    {
     "name": "stdout",
     "output_type": "stream",
     "text": [
      "Train on 282722 samples, validate on 153755 samples\n",
      "Epoch 1/3\n",
      "282722/282722 [==============================] - 326s 1ms/step - loss: 0.7599 - main_output_loss: 0.6112 - lstm_output_loss: 0.7331 - main_output_acc: 0.6949 - lstm_output_acc: 0.5296 - val_loss: 0.7088 - val_main_output_loss: 0.5644 - val_lstm_output_loss: 0.7071 - val_main_output_acc: 0.7086 - val_lstm_output_acc: 0.8278\n",
      "Epoch 2/3\n",
      "282722/282722 [==============================] - 406s 1ms/step - loss: 0.7144 - main_output_loss: 0.5691 - lstm_output_loss: 0.7068 - main_output_acc: 0.7205 - lstm_output_acc: 0.5331 - val_loss: 0.8188 - val_main_output_loss: 0.6666 - val_lstm_output_loss: 0.7357 - val_main_output_acc: 0.6588 - val_lstm_output_acc: 0.8303\n",
      "Epoch 3/3\n",
      "282722/282722 [==============================] - 385s 1ms/step - loss: 0.7282 - main_output_loss: 0.5746 - lstm_output_loss: 0.7370 - main_output_acc: 0.7379 - lstm_output_acc: 0.5299 - val_loss: 0.7061 - val_main_output_loss: 0.5432 - val_lstm_output_loss: 0.7784 - val_main_output_acc: 0.7628 - val_lstm_output_acc: 0.7861\n"
     ]
    },
    {
     "data": {
      "text/plain": [
       "<keras.callbacks.History at 0x10e96aa20>"
      ]
     },
     "execution_count": 14,
     "metadata": {},
     "output_type": "execute_result"
    }
   ],
   "source": [
    "ts_data_train = cc_data_train_os\n",
    "meta_data_train = data_train_os\n",
    "ts_data_val = cc_data_val\n",
    "meta_data_val = data_val\n",
    "num_epochs=3\n",
    "batch_size=32\n",
    "\n",
    "lstm_model.fit([ts_data_train, meta_data_train], [target_train_os, target_train_os],\n",
    "                validation_data=([ts_data_val, meta_data_val], [target_val, target_val]),\n",
    "                epochs=num_epochs, batch_size=batch_size)"
   ]
  },
  {
   "cell_type": "code",
   "execution_count": 15,
   "metadata": {},
   "outputs": [],
   "source": [
    "predict_val = lstm_model.predict([ts_data_val, meta_data_val])"
   ]
  },
  {
   "cell_type": "code",
   "execution_count": 16,
   "metadata": {},
   "outputs": [
    {
     "name": "stdout",
     "output_type": "stream",
     "text": [
      "Normalized confusion matrix\n",
      "[[ 0.78530338  0.21469662]\n",
      " [ 0.4928399   0.5071601 ]]\n"
     ]
    },
    {
     "data": {
      "image/png": "[encoded data removed]",
      "text/plain": [
       "<matplotlib.figure.Figure at 0x1139b3320>"
      ]
     },
     "metadata": {},
     "output_type": "display_data"
    }
   ],
   "source": [
    "from sklearn.metrics import confusion_matrix\n",
    "\n",
    "cm = confusion_matrix(target_val, predict_val[0].round())\n",
    "plot_confusion_matrix(cm, ['No Payment Trouble', 'Payment Trouble'], normalize=True)"
   ]
  },
  {
   "cell_type": "markdown",
   "metadata": {},
   "source": [
    "-----\n",
    "## Grid search on LSTM parameters"
   ]
  },
  {
   "cell_type": "code",
   "execution_count": 12,
   "metadata": {},
   "outputs": [
    {
     "name": "stderr",
     "output_type": "stream",
     "text": [
      "2018-07-10 11:40:14,617 - DEBUG - Initializing data loader\n",
      "2018-07-10 11:40:14,617 - DEBUG - Reading application_train.csv...\n",
      "2018-07-10 11:40:19,645 - DEBUG - Finished reading application_train.csv\n",
      "2018-07-10 11:40:19,645 - DEBUG - Loading bureau data...\n",
      "2018-07-10 11:40:27,475 - DEBUG - Loading previous application data...\n",
      "2018-07-10 11:40:55,648 - DEBUG - Done\n"
     ]
    }
   ],
   "source": [
    "from imblearn.over_sampling import RandomOverSampler\n",
    "import itertools\n",
    "from models import LSTMWithMetadata\n",
    "import pandas as pd\n",
    "\n",
    "loader = HCDRLoader()\n",
    "\n",
    "# load index values from main table\n",
    "app_ix = loader.applications_train_index()\n",
    "sequence_length = 25\n",
    "\n",
    "hyperparameters = {\n",
    "    'sequence_dense_layers': [0],\n",
    "    'sequence_dense_width': [4],\n",
    "    'sequence_l2_reg': [0],\n",
    "    'meta_dense_layers': [0, 1],\n",
    "    'meta_dense_width': [32],\n",
    "    'comb_dense_layers': [0],\n",
    "    'lstm_units': [4]\n",
    "}\n",
    "\n",
    "keys, values = zip(*hyperparameters.items())\n",
    "experiments = [dict(zip(keys, v)) for v in itertools.product(*values)]\n",
    "exp_df = pd.DataFrame(experiments)\n",
    "\n",
    "cm = np.zeros((len(experiments), 2, 2), dtype=int)"
   ]
  },
  {
   "cell_type": "code",
   "execution_count": null,
   "metadata": {},
   "outputs": [
    {
     "name": "stderr",
     "output_type": "stream",
     "text": [
      "2018-07-10 11:12:36,898 - DEBUG - Initializing data loader\n",
      "2018-07-10 11:12:36,898 - DEBUG - Reading application_train.csv...\n",
      "2018-07-10 11:12:41,478 - DEBUG - Finished reading application_train.csv\n",
      "2018-07-10 11:12:41,478 - DEBUG - Loading bureau data...\n",
      "2018-07-10 11:12:48,738 - DEBUG - Loading previous application data...\n",
      "2018-07-10 11:13:17,187 - DEBUG - Done\n",
      "2018-07-10 11:13:17,218 - DEBUG - Preparing applications data...\n",
      "2018-07-10 11:13:21,111 - DEBUG - Performing soft impute on current home info...\n",
      "2018-07-10 11:13:29,239 - DEBUG - Running PCA on current home info...\n",
      "2018-07-10 11:13:31,663 - DEBUG - Performing linear regression on goods price and annuity amount...\n",
      "2018-07-10 11:13:33,504 - DEBUG - Preparing applications data...\n",
      "2018-07-10 11:13:34,887 - DEBUG - Performing soft impute on current home info...\n",
      "2018-07-10 11:13:38,425 - DEBUG - Running PCA on current home info...\n",
      "2018-07-10 11:13:38,697 - DEBUG - Performing linear regression on goods price and annuity amount...\n",
      "2018-07-10 11:13:38,744 - DEBUG - Collating training data...\n",
      "2018-07-10 11:13:43,733 - DEBUG - Collating validation data...\n",
      "2018-07-10 11:13:45,962 - DEBUG - Scaling train and validation data...\n",
      "2018-07-10 11:13:48,319 - DEBUG - Done\n",
      "2018-07-10 11:13:48,435 - DEBUG - Reading credit card balance file...\n",
      "2018-07-10 11:14:03,863 - DEBUG - Preparing credit card balance data...\n",
      "2018-07-10 11:14:40,416 - DEBUG - Sparsifying...\n",
      "2018-07-10 11:14:49,180 - DEBUG - Done\n",
      "2018-07-10 11:14:49,378 - DEBUG - Reading credit card balance file...\n",
      "2018-07-10 11:15:02,908 - DEBUG - Preparing credit card balance data...\n",
      "2018-07-10 11:15:12,247 - DEBUG - Sparsifying...\n",
      "2018-07-10 11:15:15,184 - DEBUG - Done\n"
     ]
    },
    {
     "name": "stdout",
     "output_type": "stream",
     "text": [
      "Train on 424146 samples, validate on 76878 samples\n",
      "Epoch 1/2\n",
      "293152/424146 [===================>..........] - ETA: 1:38 - loss: 0.8572 - main_output_loss: 0.6989 - lstm_output_loss: 0.7915 - main_output_acc: 0.6732 - lstm_output_acc: 0.5184"
     ]
    }
   ],
   "source": [
    "# fit model using k-fold verification\n",
    "kf = KFold(n_splits=4, shuffle=True)\n",
    "for j, fold_indexes in enumerate(kf.split(app_ix)):\n",
    "    data_train, target_train, data_val, target_val = loader.load_train_val(fold_indexes[0], fold_indexes[1])\n",
    "    cc_data_train = loader.read_credit_card_balance(app_ix.values[fold_indexes[0]], t_max=sequence_length)\n",
    "    cc_data_val = loader.read_credit_card_balance(app_ix.values[fold_indexes[1]], t_max=sequence_length)\n",
    "\n",
    "    sequence_features = np.int(cc_data_train.shape[1] / sequence_length)\n",
    "    meta_features = np.int(data_train.shape[1])\n",
    "\n",
    "    ros = RandomOverSampler()\n",
    "    data_train_os_index, target_train_os = ros.fit_sample(np.arange(data_train.shape[0]).reshape(-1, 1), target_train)\n",
    "    data_train_os = data_train[data_train_os_index.squeeze()]\n",
    "    cc_data_train_os = cc_data_train[data_train_os_index.squeeze()]\n",
    "    \n",
    "    for i, experiment in enumerate(experiments):\n",
    "        lstm_nn = LSTMWithMetadata(sequence_length, sequence_features, meta_features,\n",
    "                                   **experiment)\n",
    "        history = lstm_nn.fit(cc_data_train_os, data_train_os, target_train_os,\n",
    "                              cc_data_val, data_val, target_val,\n",
    "                              num_epochs=2)\n",
    "        predict_val = lstm_nn.predict(cc_data_val, data_val)\n",
    "        cm_fold = confusion_matrix(target_val, predict_val[0].round())\n",
    "        cm[i, :, :] = cm[i, :, :] + cm_fold\n",
    "        plot_confusion_matrix(cm_fold, ['No Payment Trouble', 'Payment Trouble'], normalize=True, title='Fold {}'.format(j))\n",
    "        plt.show()"
   ]
  },
  {
   "cell_type": "code",
   "execution_count": 5,
   "metadata": {},
   "outputs": [
    {
     "name": "stdout",
     "output_type": "stream",
     "text": [
      "__________________________________________________________________________________________________\n",
      "Layer (type)                    Output Shape         Param #     Connected to                     \n",
      "==================================================================================================\n",
      "lstm_input (InputLayer)         (None, 650)          0                                            \n",
      "__________________________________________________________________________________________________\n",
      "reshaped_input (Reshape)        (None, 25, 26)       0           lstm_input[0][0]                 \n",
      "__________________________________________________________________________________________________\n",
      "lstm (LSTM)                     (None, 8)            1120        reshaped_input[0][0]             \n",
      "__________________________________________________________________________________________________\n",
      "meta_input (InputLayer)         (None, 225)          0                                            \n",
      "__________________________________________________________________________________________________\n",
      "concatenate (Concatenate)       (None, 233)          0           lstm[0][0]                       \n",
      "                                                                 meta_input[0][0]                 \n",
      "__________________________________________________________________________________________________\n",
      "main_output (Dense)             (None, 1)            234         concatenate[0][0]                \n",
      "__________________________________________________________________________________________________\n",
      "lstm_output (Dense)             (None, 1)            9           lstm[0][0]                       \n",
      "==================================================================================================\n",
      "Total params: 1,363\n",
      "Trainable params: 1,363\n",
      "Non-trainable params: 0\n",
      "__________________________________________________________________________________________________\n"
     ]
    }
   ],
   "source": [
    "lstm_nn.model_summary()"
   ]
  },
  {
   "cell_type": "code",
   "execution_count": 2,
   "metadata": {},
   "outputs": [
    {
     "data": {
      "text/plain": [
       "(15, 15)"
      ]
     },
     "execution_count": 2,
     "metadata": {},
     "output_type": "execute_result"
    }
   ],
   "source": [
    "a = (15, 15)\n",
    "a"
   ]
  },
  {
   "cell_type": "code",
   "execution_count": 4,
   "metadata": {},
   "outputs": [
    {
     "data": {
      "text/plain": [
       "(15, 15)"
      ]
     },
     "execution_count": 4,
     "metadata": {},
     "output_type": "execute_result"
    }
   ],
   "source": [
    "tuple(list(a))"
   ]
  },
  {
   "cell_type": "markdown",
   "metadata": {},
   "source": [
    "-----\n",
    "## Model Averaging"
   ]
  },
  {
   "cell_type": "code",
   "execution_count": 1,
   "metadata": {},
   "outputs": [
    {
     "name": "stderr",
     "output_type": "stream",
     "text": [
      "c:\\users\\meeting\\appdata\\local\\programs\\python\\python36\\lib\\site-packages\\h5py\\__init__.py:36: FutureWarning: Conversion of the second argument of issubdtype from `float` to `np.floating` is deprecated. In future, it will be treated as `np.float64 == np.dtype(float).type`.\n",
      "  from ._conv import register_converters as _register_converters\n",
      "Using TensorFlow backend.\n"
     ]
    }
   ],
   "source": [
    "%load_ext autoreload\n",
    "%autoreload 2\n",
    "\n",
    "import logging, warnings\n",
    "import itertools\n",
    "from prepare_data import HCDRDataLoader\n",
    "from sklearn.model_selection import KFold\n",
    "import numpy as np\n",
    "import keras\n",
    "from imblearn.over_sampling import RandomOverSampler\n",
    "from models import LinearNN, GBC, ABC, MultiLSTMWithMetadata\n",
    "from sklearn.linear_model import LogisticRegression\n",
    "\n",
    "logging.basicConfig(level=logging.DEBUG, format='%(asctime)s - %(levelname)s - %(message)s')\n",
    "warnings.filterwarnings(action=\"ignore\", module=\"scipy\", message=\"^internal gelsd\")"
   ]
  },
  {
   "cell_type": "code",
   "execution_count": 2,
   "metadata": {},
   "outputs": [
    {
     "name": "stderr",
     "output_type": "stream",
     "text": [
      "2018-08-16 09:08:35,280 - DEBUG - Initializing data loader\n",
      "2018-08-16 09:08:42,394 - DEBUG - Performing soft impute on current home info...\n",
      "2018-08-16 09:08:45,245 - DEBUG - Running PCA on current home info...\n"
     ]
    }
   ],
   "source": [
    "logging.basicConfig(level=logging.DEBUG, format='%(asctime)s - %(levelname)s - %(message)s')\n",
    "\n",
    "loader_args = {\n",
    "        'cc_tmax': 60,\n",
    "        'bureau_tmax': 60,\n",
    "        'pos_tmax': 60\n",
    "    }\n",
    "\n",
    "loader = HCDRDataLoader(**loader_args)\n",
    "app_ix = loader.get_index()"
   ]
  },
  {
   "cell_type": "code",
   "execution_count": 3,
   "metadata": {},
   "outputs": [
    {
     "data": {
      "text/plain": [
       "Int64Index([100002, 100003, 100004, 100006, 100007, 100008, 100009, 100010,\n",
       "            100011, 100012,\n",
       "            ...\n",
       "            456245, 456246, 456247, 456248, 456249, 456251, 456252, 456253,\n",
       "            456254, 456255],\n",
       "           dtype='int64', name='SK_ID_CURR', length=307511)"
      ]
     },
     "execution_count": 3,
     "metadata": {},
     "output_type": "execute_result"
    }
   ],
   "source": [
    "app_ix"
   ]
  },
  {
   "cell_type": "code",
   "execution_count": 4,
   "metadata": {},
   "outputs": [],
   "source": [
    "# fit model using k-fold verification\n",
    "kf = KFold(n_splits=4, shuffle=True)\n",
    "for fold_indexes in kf.split(app_ix):\n",
    "    pass"
   ]
  },
  {
   "cell_type": "code",
   "execution_count": 5,
   "metadata": {},
   "outputs": [
    {
     "name": "stderr",
     "output_type": "stream",
     "text": [
      "2018-08-16 09:09:25,318 - DEBUG - Preparing applications data...\n",
      "2018-08-16 09:09:27,490 - DEBUG - Performing linear regression on goods price and annuity amount...\n",
      "2018-08-16 09:09:35,567 - DEBUG - Reading credit card balance file...\n",
      "2018-08-16 09:09:51,435 - DEBUG - Preparing credit card balance data...\n",
      "2018-08-16 09:10:46,925 - DEBUG - Sparsifying...\n",
      "2018-08-16 09:11:05,814 - DEBUG - Done\n",
      "2018-08-16 09:11:27,566 - DEBUG - Preparing credit bureau balance data...\n",
      "2018-08-16 09:11:55,948 - DEBUG - Sparsifying...\n",
      "2018-08-16 09:12:02,690 - DEBUG - Done\n",
      "2018-08-16 09:13:26,007 - DEBUG - Preparing POS cash data...\n",
      "2018-08-16 09:14:31,329 - DEBUG - Done\n",
      "2018-08-16 09:14:38,695 - DEBUG - [(225,), (60, 26), (60, 8), (60, 13)]\n",
      "2018-08-16 09:14:38,726 - DEBUG - Preparing applications data...\n",
      "2018-08-16 09:14:40,679 - DEBUG - Performing linear regression on goods price and annuity amount...\n",
      "2018-08-16 09:14:43,773 - DEBUG - Reading credit card balance file...\n",
      "2018-08-16 09:14:59,587 - DEBUG - Preparing credit card balance data...\n",
      "2018-08-16 09:15:15,343 - DEBUG - Sparsifying...\n",
      "2018-08-16 09:15:21,703 - DEBUG - Done\n",
      "2018-08-16 09:15:43,582 - DEBUG - Preparing credit bureau balance data...\n",
      "2018-08-16 09:15:53,052 - DEBUG - Sparsifying...\n",
      "2018-08-16 09:15:55,067 - DEBUG - Done\n",
      "2018-08-16 09:17:17,969 - DEBUG - Preparing POS cash data...\n",
      "2018-08-16 09:17:35,033 - DEBUG - Done\n",
      "2018-08-16 09:17:37,283 - DEBUG - [(225,), (60, 26), (60, 8), (60, 13)]\n"
     ]
    }
   ],
   "source": [
    "data_train_ts, target_train_ts, data_val_ts, target_val_ts = loader.load_train_val(fold_indexes[0], fold_indexes[1])\n",
    "input_shape = loader.get_input_shape()"
   ]
  },
  {
   "cell_type": "code",
   "execution_count": 6,
   "metadata": {},
   "outputs": [
    {
     "data": {
      "text/plain": [
       "\" \\n# load training and validation summary data\\nloader_args = {\\n    'load_time_series': False\\n}\\ndata_train, target_train, data_val, target_val = loader.load_train_val(fold_indexes[0], fold_indexes[1], loader_args)\\n\""
      ]
     },
     "execution_count": 6,
     "metadata": {},
     "output_type": "execute_result"
    }
   ],
   "source": [
    "\"\"\" \n",
    "# load training and validation summary data\n",
    "loader_args = {\n",
    "    'load_time_series': False\n",
    "}\n",
    "data_train, target_train, data_val, target_val = loader.load_train_val(fold_indexes[0], fold_indexes[1], loader_args)\n",
    "\"\"\""
   ]
  },
  {
   "cell_type": "code",
   "execution_count": 7,
   "metadata": {},
   "outputs": [],
   "source": [
    "# oversample troubled loans to make up for imbalance\n",
    "ros = RandomOverSampler()\n",
    "os_index, target_train_os = ros.fit_sample(np.arange(data_train_ts[0].shape[0]).reshape(-1, 1), target_train_ts)\n",
    "\n",
    "#data_train_os = data_train[os_index.squeeze()]"
   ]
  },
  {
   "cell_type": "code",
   "execution_count": 8,
   "metadata": {},
   "outputs": [],
   "source": [
    "data_train_ts_os = [data_train_part[os_index.squeeze()] for data_train_part in data_train_ts]\n",
    "target_train_ts_os = target_train_ts.values[os_index.squeeze()]"
   ]
  },
  {
   "cell_type": "code",
   "execution_count": 9,
   "metadata": {},
   "outputs": [],
   "source": [
    "num_models = 4\n",
    "train_samples = target_train_ts.shape[0]\n",
    "val_samples = target_val_ts.shape[0]\n",
    "train_results = np.empty((train_samples, num_models))\n",
    "val_results = np.empty((val_samples, num_models))"
   ]
  },
  {
   "cell_type": "code",
   "execution_count": 11,
   "metadata": {},
   "outputs": [
    {
     "name": "stdout",
     "output_type": "stream",
     "text": [
      "Train on 423924 samples, validate on 76877 samples\n",
      "Epoch 1/25\n",
      " - 5s - loss: 0.5872 - acc: 0.6917 - val_loss: 0.5806 - val_acc: 0.6978\n",
      "Epoch 2/25\n",
      " - 4s - loss: 0.5586 - acc: 0.7141 - val_loss: 0.5584 - val_acc: 0.7120\n",
      "Epoch 3/25\n",
      " - 4s - loss: 0.5437 - acc: 0.7260 - val_loss: 0.5708 - val_acc: 0.7044\n",
      "Epoch 4/25\n",
      " - 4s - loss: 0.5323 - acc: 0.7335 - val_loss: 0.5511 - val_acc: 0.7279\n",
      "Epoch 5/25\n",
      " - 4s - loss: 0.5232 - acc: 0.7395 - val_loss: 0.5839 - val_acc: 0.6992\n",
      "Epoch 6/25\n",
      " - 5s - loss: 0.5169 - acc: 0.7451 - val_loss: 0.5718 - val_acc: 0.7116\n",
      "Epoch 7/25\n",
      " - 4s - loss: 0.5111 - acc: 0.7486 - val_loss: 0.5404 - val_acc: 0.7317\n",
      "Epoch 8/25\n",
      " - 4s - loss: 0.5063 - acc: 0.7518 - val_loss: 0.5763 - val_acc: 0.7120\n",
      "Epoch 9/25\n",
      " - 5s - loss: 0.5023 - acc: 0.7545 - val_loss: 0.5743 - val_acc: 0.7124\n",
      "Epoch 10/25\n",
      " - 4s - loss: 0.4993 - acc: 0.7570 - val_loss: 0.5581 - val_acc: 0.7244\n",
      "Epoch 11/25\n",
      " - 4s - loss: 0.4966 - acc: 0.7582 - val_loss: 0.5766 - val_acc: 0.7169\n",
      "Epoch 12/25\n",
      " - 4s - loss: 0.4938 - acc: 0.7606 - val_loss: 0.5748 - val_acc: 0.7215\n",
      "Epoch 13/25\n",
      " - 4s - loss: 0.4910 - acc: 0.7623 - val_loss: 0.5689 - val_acc: 0.7230\n",
      "Epoch 14/25\n",
      " - 3s - loss: 0.4891 - acc: 0.7637 - val_loss: 0.5733 - val_acc: 0.7183\n",
      "Epoch 15/25\n",
      " - 3s - loss: 0.4869 - acc: 0.7650 - val_loss: 0.5885 - val_acc: 0.7142\n",
      "Epoch 16/25\n",
      " - 3s - loss: 0.4857 - acc: 0.7667 - val_loss: 0.5503 - val_acc: 0.7359\n",
      "Epoch 17/25\n",
      " - 3s - loss: 0.4840 - acc: 0.7676 - val_loss: 0.5538 - val_acc: 0.7360\n",
      "Epoch 18/25\n",
      " - 4s - loss: 0.4825 - acc: 0.7684 - val_loss: 0.5489 - val_acc: 0.7426\n",
      "Epoch 19/25\n",
      " - 3s - loss: 0.4825 - acc: 0.7694 - val_loss: 0.5747 - val_acc: 0.7245\n",
      "Epoch 20/25\n",
      " - 3s - loss: 0.4818 - acc: 0.7703 - val_loss: 0.5783 - val_acc: 0.7209\n",
      "Epoch 21/25\n",
      " - 3s - loss: 0.4801 - acc: 0.7711 - val_loss: 0.5913 - val_acc: 0.7156\n",
      "Epoch 22/25\n",
      " - 3s - loss: 0.4785 - acc: 0.7717 - val_loss: 0.5674 - val_acc: 0.7300\n",
      "Epoch 23/25\n",
      " - 3s - loss: 0.4764 - acc: 0.7723 - val_loss: 0.5671 - val_acc: 0.7319\n",
      "Epoch 24/25\n",
      " - 4s - loss: 0.4751 - acc: 0.7739 - val_loss: 0.5821 - val_acc: 0.7227\n",
      "Epoch 25/25\n",
      " - 4s - loss: 0.4741 - acc: 0.7742 - val_loss: 0.5392 - val_acc: 0.7475\n"
     ]
    }
   ],
   "source": [
    "# train on linear neural network\n",
    "linear_nn = LinearNN(data_train_ts_os[0].shape[1], epochs=25)\n",
    "linear_nn.fit(data_train_ts_os[0], target_train_ts_os, validation_data=(data_val_ts[0], target_val_ts))\n",
    "# TODO: use predict on out of sample data and store results for each model"
   ]
  },
  {
   "cell_type": "code",
   "execution_count": 12,
   "metadata": {},
   "outputs": [],
   "source": [
    "train_results[:, 0] = linear_nn.predict(data_train_ts[0]).squeeze()\n",
    "val_results[:, 0] = linear_nn.predict(data_val_ts[0]).squeeze()"
   ]
  },
  {
   "cell_type": "code",
   "execution_count": 13,
   "metadata": {},
   "outputs": [],
   "source": [
    "# gradient boosting classifier\n",
    "gbc = GBC()\n",
    "gbc.fit(data_train_ts_os[0], target_train_os)"
   ]
  },
  {
   "cell_type": "code",
   "execution_count": 14,
   "metadata": {},
   "outputs": [],
   "source": [
    "train_results[:, 1] = gbc.predict(data_train_ts[0]).squeeze()\n",
    "val_results[:, 1] = gbc.predict(data_val_ts[0]).squeeze()"
   ]
  },
  {
   "cell_type": "code",
   "execution_count": 15,
   "metadata": {},
   "outputs": [],
   "source": [
    "# adaboost classifier\n",
    "abc = ABC()\n",
    "abc.fit(data_train_ts_os[0], target_train_os)"
   ]
  },
  {
   "cell_type": "code",
   "execution_count": 16,
   "metadata": {},
   "outputs": [],
   "source": [
    "train_results[:, 2] = abc.predict(data_train_ts[0]).squeeze()\n",
    "val_results[:, 2] = abc.predict(data_val_ts[0]).squeeze()"
   ]
  },
  {
   "cell_type": "code",
   "execution_count": 17,
   "metadata": {},
   "outputs": [],
   "source": [
    "model_args = {\n",
    "        'epochs': 15,\n",
    "        'batch_size': 512,\n",
    "        'lstm_gpu': False,\n",
    "        'sequence_dense_layers': 0,\n",
    "        'sequence_dense_width': 8,\n",
    "        'sequence_l2_reg': 0,\n",
    "        'meta_dense_layers': 1,\n",
    "        'meta_dense_width': 64,\n",
    "        'meta_l2_reg': 1e-5,\n",
    "        'meta_dropout': 0.2,\n",
    "        'comb_dense_layers': 3,\n",
    "        'comb_dense_width': 64,\n",
    "        'comb_l2_reg': 1e-6,\n",
    "        'comb_dropout': 0.2,\n",
    "        'lstm_units': 8,\n",
    "        'lstm_l2_reg': 1e-7\n",
    "    }\n",
    "\n",
    "lstm_nn = MultiLSTMWithMetadata(input_shape, **model_args)"
   ]
  },
  {
   "cell_type": "code",
   "execution_count": 18,
   "metadata": {},
   "outputs": [
    {
     "name": "stdout",
     "output_type": "stream",
     "text": [
      "Train on 423924 samples, validate on 76877 samples\n",
      "Epoch 1/15\n",
      " - 158s - loss: 1.0235 - main_output_loss: 0.6080 - lstm_output_0_loss: 0.6888 - lstm_output_1_loss: 0.6915 - lstm_output_2_loss: 0.6915 - main_output_acc: 0.6739 - lstm_output_0_acc: 0.5317 - lstm_output_1_acc: 0.5151 - lstm_output_2_acc: 0.5167 - val_loss: 0.9935 - val_main_output_loss: 0.5756 - val_lstm_output_0_loss: 0.6888 - val_lstm_output_1_loss: 0.7005 - val_lstm_output_2_loss: 0.6945 - val_main_output_acc: 0.6883 - val_lstm_output_0_acc: 0.8306 - val_lstm_output_1_acc: 0.2112 - val_lstm_output_2_acc: 0.8391\n",
      "Epoch 2/15\n",
      " - 142s - loss: 0.9953 - main_output_loss: 0.5803 - lstm_output_0_loss: 0.6876 - lstm_output_1_loss: 0.6908 - lstm_output_2_loss: 0.6904 - main_output_acc: 0.6996 - lstm_output_0_acc: 0.5344 - lstm_output_1_acc: 0.5176 - lstm_output_2_acc: 0.5198 - val_loss: 0.9950 - val_main_output_loss: 0.5831 - val_lstm_output_0_loss: 0.6836 - val_lstm_output_1_loss: 0.6853 - val_lstm_output_2_loss: 0.6840 - val_main_output_acc: 0.6779 - val_lstm_output_0_acc: 0.8286 - val_lstm_output_1_acc: 0.2350 - val_lstm_output_2_acc: 0.6042\n",
      "Epoch 3/15\n",
      " - 164s - loss: 0.9844 - main_output_loss: 0.5698 - lstm_output_0_loss: 0.6872 - lstm_output_1_loss: 0.6906 - lstm_output_2_loss: 0.6888 - main_output_acc: 0.7063 - lstm_output_0_acc: 0.5347 - lstm_output_1_acc: 0.5173 - lstm_output_2_acc: 0.5345 - val_loss: 1.0286 - val_main_output_loss: 0.6092 - val_lstm_output_0_loss: 0.6950 - val_lstm_output_1_loss: 0.6980 - val_lstm_output_2_loss: 0.6972 - val_main_output_acc: 0.6667 - val_lstm_output_0_acc: 0.8263 - val_lstm_output_1_acc: 0.2203 - val_lstm_output_2_acc: 0.4780\n",
      "Epoch 4/15\n",
      " - 151s - loss: 0.9762 - main_output_loss: 0.5616 - lstm_output_0_loss: 0.6870 - lstm_output_1_loss: 0.6904 - lstm_output_2_loss: 0.6881 - main_output_acc: 0.7118 - lstm_output_0_acc: 0.5345 - lstm_output_1_acc: 0.5172 - lstm_output_2_acc: 0.5364 - val_loss: 0.9581 - val_main_output_loss: 0.5467 - val_lstm_output_0_loss: 0.6787 - val_lstm_output_1_loss: 0.6826 - val_lstm_output_2_loss: 0.6883 - val_main_output_acc: 0.7010 - val_lstm_output_0_acc: 0.8273 - val_lstm_output_1_acc: 0.2387 - val_lstm_output_2_acc: 0.5154\n",
      "Epoch 5/15\n",
      " - 156s - loss: 0.9676 - main_output_loss: 0.5530 - lstm_output_0_loss: 0.6868 - lstm_output_1_loss: 0.6902 - lstm_output_2_loss: 0.6877 - main_output_acc: 0.7177 - lstm_output_0_acc: 0.5341 - lstm_output_1_acc: 0.5174 - lstm_output_2_acc: 0.5377 - val_loss: 0.9569 - val_main_output_loss: 0.5412 - val_lstm_output_0_loss: 0.6903 - val_lstm_output_1_loss: 0.6924 - val_lstm_output_2_loss: 0.6877 - val_main_output_acc: 0.7035 - val_lstm_output_0_acc: 0.8344 - val_lstm_output_1_acc: 0.2104 - val_lstm_output_2_acc: 0.4915\n",
      "Epoch 6/15\n",
      " - 155s - loss: 0.9605 - main_output_loss: 0.5460 - lstm_output_0_loss: 0.6865 - lstm_output_1_loss: 0.6901 - lstm_output_2_loss: 0.6875 - main_output_acc: 0.7218 - lstm_output_0_acc: 0.5335 - lstm_output_1_acc: 0.5177 - lstm_output_2_acc: 0.5384 - val_loss: 0.9644 - val_main_output_loss: 0.5497 - val_lstm_output_0_loss: 0.6816 - val_lstm_output_1_loss: 0.6869 - val_lstm_output_2_loss: 0.6960 - val_main_output_acc: 0.7016 - val_lstm_output_0_acc: 0.8318 - val_lstm_output_1_acc: 0.2255 - val_lstm_output_2_acc: 0.4180\n",
      "Epoch 7/15\n",
      " - 154s - loss: 0.9546 - main_output_loss: 0.5402 - lstm_output_0_loss: 0.6861 - lstm_output_1_loss: 0.6901 - lstm_output_2_loss: 0.6872 - main_output_acc: 0.7253 - lstm_output_0_acc: 0.5341 - lstm_output_1_acc: 0.5180 - lstm_output_2_acc: 0.5390 - val_loss: 0.9349 - val_main_output_loss: 0.5211 - val_lstm_output_0_loss: 0.6837 - val_lstm_output_1_loss: 0.6930 - val_lstm_output_2_loss: 0.6832 - val_main_output_acc: 0.7206 - val_lstm_output_0_acc: 0.8314 - val_lstm_output_1_acc: 0.2169 - val_lstm_output_2_acc: 0.4760\n",
      "Epoch 8/15\n",
      " - 142s - loss: 0.9489 - main_output_loss: 0.5344 - lstm_output_0_loss: 0.6858 - lstm_output_1_loss: 0.6900 - lstm_output_2_loss: 0.6870 - main_output_acc: 0.7293 - lstm_output_0_acc: 0.5344 - lstm_output_1_acc: 0.5182 - lstm_output_2_acc: 0.5396 - val_loss: 0.9673 - val_main_output_loss: 0.5494 - val_lstm_output_0_loss: 0.6869 - val_lstm_output_1_loss: 0.7013 - val_lstm_output_2_loss: 0.6913 - val_main_output_acc: 0.7043 - val_lstm_output_0_acc: 0.8388 - val_lstm_output_1_acc: 0.2147 - val_lstm_output_2_acc: 0.4476\n",
      "Epoch 9/15\n",
      " - 141s - loss: 0.9440 - main_output_loss: 0.5295 - lstm_output_0_loss: 0.6855 - lstm_output_1_loss: 0.6899 - lstm_output_2_loss: 0.6869 - main_output_acc: 0.7327 - lstm_output_0_acc: 0.5351 - lstm_output_1_acc: 0.5186 - lstm_output_2_acc: 0.5397 - val_loss: 0.9360 - val_main_output_loss: 0.5257 - val_lstm_output_0_loss: 0.6715 - val_lstm_output_1_loss: 0.6848 - val_lstm_output_2_loss: 0.6853 - val_main_output_acc: 0.7203 - val_lstm_output_0_acc: 0.8351 - val_lstm_output_1_acc: 0.2360 - val_lstm_output_2_acc: 0.4918\n",
      "Epoch 10/15\n",
      " - 141s - loss: 0.9392 - main_output_loss: 0.5247 - lstm_output_0_loss: 0.6854 - lstm_output_1_loss: 0.6899 - lstm_output_2_loss: 0.6867 - main_output_acc: 0.7361 - lstm_output_0_acc: 0.5339 - lstm_output_1_acc: 0.5184 - lstm_output_2_acc: 0.5411 - val_loss: 0.9295 - val_main_output_loss: 0.5194 - val_lstm_output_0_loss: 0.6681 - val_lstm_output_1_loss: 0.6853 - val_lstm_output_2_loss: 0.6864 - val_main_output_acc: 0.7229 - val_lstm_output_0_acc: 0.8439 - val_lstm_output_1_acc: 0.2315 - val_lstm_output_2_acc: 0.4393\n",
      "Epoch 11/15\n",
      " - 141s - loss: 0.9355 - main_output_loss: 0.5211 - lstm_output_0_loss: 0.6852 - lstm_output_1_loss: 0.6897 - lstm_output_2_loss: 0.6864 - main_output_acc: 0.7381 - lstm_output_0_acc: 0.5356 - lstm_output_1_acc: 0.5192 - lstm_output_2_acc: 0.5423 - val_loss: 0.9744 - val_main_output_loss: 0.5565 - val_lstm_output_0_loss: 0.7007 - val_lstm_output_1_loss: 0.6923 - val_lstm_output_2_loss: 0.6858 - val_main_output_acc: 0.6863 - val_lstm_output_0_acc: 0.2262 - val_lstm_output_1_acc: 0.2160 - val_lstm_output_2_acc: 0.4914\n",
      "Epoch 12/15\n",
      " - 140s - loss: 0.9321 - main_output_loss: 0.5176 - lstm_output_0_loss: 0.6851 - lstm_output_1_loss: 0.6894 - lstm_output_2_loss: 0.6864 - main_output_acc: 0.7397 - lstm_output_0_acc: 0.5342 - lstm_output_1_acc: 0.5207 - lstm_output_2_acc: 0.5413 - val_loss: 0.9330 - val_main_output_loss: 0.5190 - val_lstm_output_0_loss: 0.6829 - val_lstm_output_1_loss: 0.6869 - val_lstm_output_2_loss: 0.6888 - val_main_output_acc: 0.7168 - val_lstm_output_0_acc: 0.8460 - val_lstm_output_1_acc: 0.2301 - val_lstm_output_2_acc: 0.4459\n",
      "Epoch 13/15\n",
      " - 141s - loss: 0.9291 - main_output_loss: 0.5148 - lstm_output_0_loss: 0.6850 - lstm_output_1_loss: 0.6890 - lstm_output_2_loss: 0.6862 - main_output_acc: 0.7426 - lstm_output_0_acc: 0.5355 - lstm_output_1_acc: 0.5212 - lstm_output_2_acc: 0.5422 - val_loss: 0.9439 - val_main_output_loss: 0.5316 - val_lstm_output_0_loss: 0.6803 - val_lstm_output_1_loss: 0.6837 - val_lstm_output_2_loss: 0.6856 - val_main_output_acc: 0.7064 - val_lstm_output_0_acc: 0.8336 - val_lstm_output_1_acc: 0.8209 - val_lstm_output_2_acc: 0.4541\n",
      "Epoch 14/15\n",
      " - 141s - loss: 0.9254 - main_output_loss: 0.5111 - lstm_output_0_loss: 0.6848 - lstm_output_1_loss: 0.6888 - lstm_output_2_loss: 0.6862 - main_output_acc: 0.7450 - lstm_output_0_acc: 0.5351 - lstm_output_1_acc: 0.5221 - lstm_output_2_acc: 0.5422 - val_loss: 0.9463 - val_main_output_loss: 0.5308 - val_lstm_output_0_loss: 0.6954 - val_lstm_output_1_loss: 0.6891 - val_lstm_output_2_loss: 0.6805 - val_main_output_acc: 0.7082 - val_lstm_output_0_acc: 0.8348 - val_lstm_output_1_acc: 0.2312 - val_lstm_output_2_acc: 0.4873\n",
      "Epoch 15/15\n",
      " - 141s - loss: 0.9225 - main_output_loss: 0.5081 - lstm_output_0_loss: 0.6850 - lstm_output_1_loss: 0.6885 - lstm_output_2_loss: 0.6861 - main_output_acc: 0.7468 - lstm_output_0_acc: 0.5351 - lstm_output_1_acc: 0.5215 - lstm_output_2_acc: 0.5425 - val_loss: 0.9502 - val_main_output_loss: 0.5307 - val_lstm_output_0_loss: 0.6893 - val_lstm_output_1_loss: 0.6993 - val_lstm_output_2_loss: 0.6967 - val_main_output_acc: 0.7109 - val_lstm_output_0_acc: 0.8315 - val_lstm_output_1_acc: 0.2163 - val_lstm_output_2_acc: 0.3959\n"
     ]
    },
    {
     "data": {
      "text/plain": [
       "<keras.callbacks.History at 0x265285bb5c0>"
      ]
     },
     "execution_count": 18,
     "metadata": {},
     "output_type": "execute_result"
    }
   ],
   "source": [
    "lstm_nn.fit(data_train_ts_os, target_train_ts_os, validation_data=(data_val_ts, target_val_ts))"
   ]
  },
  {
   "cell_type": "code",
   "execution_count": 19,
   "metadata": {},
   "outputs": [],
   "source": [
    "train_results[:, 3] = lstm_nn.predict(data_train_ts).squeeze()\n",
    "val_results[:, 3] = lstm_nn.predict(data_val_ts).squeeze()"
   ]
  },
  {
   "cell_type": "code",
   "execution_count": 20,
   "metadata": {},
   "outputs": [
    {
     "data": {
      "text/plain": [
       "((230634, 4), (230634,))"
      ]
     },
     "execution_count": 20,
     "metadata": {},
     "output_type": "execute_result"
    }
   ],
   "source": [
    "train_results.shape, target_train_ts.shape"
   ]
  },
  {
   "cell_type": "code",
   "execution_count": 21,
   "metadata": {},
   "outputs": [
    {
     "data": {
      "text/plain": [
       "(array([[0.81751651, 1.        , 1.        , 0.8075552 ],\n",
       "        [0.02682295, 0.        , 1.        , 0.06272607],\n",
       "        [0.45872301, 1.        , 1.        , 0.40795016],\n",
       "        ...,\n",
       "        [0.92979306, 1.        , 1.        , 0.85843879],\n",
       "        [0.82329023, 1.        , 1.        , 0.76993155],\n",
       "        [0.67572904, 0.        , 1.        , 0.72348005]]),\n",
       " array([1, 0, 0, ..., 1, 1, 1], dtype=int64))"
      ]
     },
     "execution_count": 21,
     "metadata": {},
     "output_type": "execute_result"
    }
   ],
   "source": [
    "train_results[os_index.squeeze()], target_train_ts.values[os_index.squeeze()]"
   ]
  },
  {
   "cell_type": "code",
   "execution_count": 35,
   "metadata": {},
   "outputs": [
    {
     "data": {
      "text/plain": [
       "LogisticRegression(C=0.01, class_weight='balanced', dual=False,\n",
       "          fit_intercept=True, intercept_scaling=1, max_iter=100,\n",
       "          multi_class='ovr', n_jobs=1, penalty='l2', random_state=None,\n",
       "          solver='liblinear', tol=0.0001, verbose=0, warm_start=False)"
      ]
     },
     "execution_count": 35,
     "metadata": {},
     "output_type": "execute_result"
    }
   ],
   "source": [
    "from sklearn.linear_model import LogisticRegression\n",
    "\n",
    "lr = LogisticRegression(class_weight='balanced', C=0.01)\n",
    "lr.fit(train_results, target_train_ts.values)"
   ]
  },
  {
   "cell_type": "code",
   "execution_count": 36,
   "metadata": {},
   "outputs": [
    {
     "data": {
      "text/plain": [
       "0.7822654075288119"
      ]
     },
     "execution_count": 36,
     "metadata": {},
     "output_type": "execute_result"
    }
   ],
   "source": [
    "lr.score(train_results, target_train_ts)"
   ]
  },
  {
   "cell_type": "code",
   "execution_count": 37,
   "metadata": {},
   "outputs": [
    {
     "data": {
      "text/plain": [
       "0.7390767069474615"
      ]
     },
     "execution_count": 37,
     "metadata": {},
     "output_type": "execute_result"
    }
   ],
   "source": [
    "lr.score(val_results, target_val_ts)"
   ]
  },
  {
   "cell_type": "code",
   "execution_count": 25,
   "metadata": {},
   "outputs": [],
   "source": [
    "import pandas as pd\n",
    "results = pd.DataFrame(np.concatenate([val_results, target_val_ts.values.reshape(-1, 1)], axis=1))\n",
    "results.to_csv('data/results.csv')"
   ]
  },
  {
   "cell_type": "markdown",
   "metadata": {},
   "source": [
    "**Test data**"
   ]
  },
  {
   "cell_type": "code",
   "execution_count": 38,
   "metadata": {},
   "outputs": [
    {
     "name": "stderr",
     "output_type": "stream",
     "text": [
      "2018-08-16 11:55:49,876 - DEBUG - Initializing data loader\n",
      "2018-08-16 11:55:57,272 - DEBUG - Performing soft impute on current home info...\n",
      "2018-08-16 11:56:00,048 - DEBUG - Running PCA on current home info...\n"
     ]
    }
   ],
   "source": [
    "logging.basicConfig(level=logging.DEBUG, format='%(asctime)s - %(levelname)s - %(message)s')\n",
    "\n",
    "loader_args = {\n",
    "    'cc_tmax': 60,\n",
    "    'bureau_tmax': 60,\n",
    "    'pos_tmax': 60\n",
    "}\n",
    "\n",
    "loader = HCDRDataLoader(**loader_args)"
   ]
  },
  {
   "cell_type": "code",
   "execution_count": 39,
   "metadata": {},
   "outputs": [
    {
     "name": "stderr",
     "output_type": "stream",
     "text": [
      "2018-08-16 11:56:43,558 - DEBUG - Preparing applications data...\n",
      "2018-08-16 11:56:46,889 - DEBUG - Performing linear regression on goods price and annuity amount...\n",
      "2018-08-16 11:56:58,096 - DEBUG - Reading credit card balance file...\n",
      "2018-08-16 11:57:14,905 - DEBUG - Preparing credit card balance data...\n",
      "2018-08-16 11:58:46,376 - DEBUG - Sparsifying...\n",
      "2018-08-16 11:59:12,741 - DEBUG - Done\n",
      "2018-08-16 11:59:35,424 - DEBUG - Preparing credit bureau balance data...\n",
      "2018-08-16 12:00:14,767 - DEBUG - Sparsifying...\n",
      "2018-08-16 12:00:22,377 - DEBUG - Done\n",
      "2018-08-16 12:01:56,283 - DEBUG - Preparing POS cash data...\n",
      "2018-08-16 12:03:21,036 - DEBUG - Done\n",
      "2018-08-16 12:03:30,125 - DEBUG - [(225,), (60, 26), (60, 8), (60, 13)]\n"
     ]
    }
   ],
   "source": [
    "# load training and test data\n",
    "data_train, target_train = loader.load_train_data()"
   ]
  },
  {
   "cell_type": "code",
   "execution_count": 40,
   "metadata": {},
   "outputs": [
    {
     "name": "stderr",
     "output_type": "stream",
     "text": [
      "2018-08-16 12:03:30,719 - DEBUG - Preparing applications data...\n",
      "2018-08-16 12:03:31,282 - DEBUG - Performing linear regression on goods price and annuity amount...\n",
      "2018-08-16 12:03:33,688 - DEBUG - Reading credit card balance file...\n",
      "2018-08-16 12:03:50,033 - DEBUG - Preparing credit card balance data...\n",
      "2018-08-16 12:03:59,332 - DEBUG - Sparsifying...\n",
      "2018-08-16 12:04:02,513 - DEBUG - Done\n",
      "2018-08-16 12:04:24,725 - DEBUG - Preparing credit bureau balance data...\n",
      "2018-08-16 12:04:33,680 - DEBUG - Sparsifying...\n",
      "2018-08-16 12:04:34,852 - DEBUG - Done\n",
      "2018-08-16 12:05:56,090 - DEBUG - Preparing POS cash data...\n",
      "2018-08-16 12:06:06,477 - DEBUG - Done\n",
      "2018-08-16 12:06:07,603 - DEBUG - [(225,), (60, 26), (60, 8), (60, 13)]\n"
     ]
    }
   ],
   "source": [
    "data_val = loader.load_test_data()"
   ]
  },
  {
   "cell_type": "code",
   "execution_count": 41,
   "metadata": {},
   "outputs": [],
   "source": [
    "# oversample troubled loans to make up for imbalance\n",
    "ros = RandomOverSampler()\n",
    "os_index, target_train_os = ros.fit_sample(np.arange(data_train[0].shape[0]).reshape(-1, 1), target_train)\n",
    "data_train_os = [data_train_part[os_index.squeeze()] for data_train_part in data_train]"
   ]
  },
  {
   "cell_type": "code",
   "execution_count": 42,
   "metadata": {},
   "outputs": [],
   "source": [
    "# use predict on out of sample data and store results for each model\n",
    "num_models = 4\n",
    "train_samples = data_train[0].shape[0]\n",
    "test_samples = data_val[0].shape[0]\n",
    "train_results = np.empty((train_samples, num_models))\n",
    "val_results = np.empty((test_samples, num_models))"
   ]
  },
  {
   "cell_type": "code",
   "execution_count": 43,
   "metadata": {},
   "outputs": [
    {
     "name": "stdout",
     "output_type": "stream",
     "text": [
      "Epoch 1/25\n",
      " - 6s - loss: 0.5876 - acc: 0.6907\n",
      "Epoch 2/25\n",
      " - 4s - loss: 0.5629 - acc: 0.7105\n",
      "Epoch 3/25\n",
      " - 4s - loss: 0.5498 - acc: 0.7202\n",
      "Epoch 4/25\n",
      " - 4s - loss: 0.5414 - acc: 0.7270\n",
      "Epoch 5/25\n",
      " - 4s - loss: 0.5344 - acc: 0.7324\n",
      "Epoch 6/25\n",
      " - 4s - loss: 0.5291 - acc: 0.7362\n",
      "Epoch 7/25\n",
      " - 4s - loss: 0.5249 - acc: 0.7395\n",
      "Epoch 8/25\n",
      " - 4s - loss: 0.5214 - acc: 0.7419\n",
      "Epoch 9/25\n",
      " - 4s - loss: 0.5181 - acc: 0.7445\n",
      "Epoch 10/25\n",
      " - 4s - loss: 0.5153 - acc: 0.7461\n",
      "Epoch 11/25\n",
      " - 4s - loss: 0.5134 - acc: 0.7475\n",
      "Epoch 12/25\n",
      " - 4s - loss: 0.5107 - acc: 0.7498\n",
      "Epoch 13/25\n",
      " - 4s - loss: 0.5092 - acc: 0.7507\n",
      "Epoch 14/25\n",
      " - 4s - loss: 0.5076 - acc: 0.7517\n",
      "Epoch 15/25\n",
      " - 4s - loss: 0.5057 - acc: 0.7528\n",
      "Epoch 16/25\n",
      " - 4s - loss: 0.5041 - acc: 0.7535\n",
      "Epoch 17/25\n",
      " - 4s - loss: 0.5030 - acc: 0.7544\n",
      "Epoch 18/25\n",
      " - 4s - loss: 0.5016 - acc: 0.7551\n",
      "Epoch 19/25\n",
      " - 5s - loss: 0.5005 - acc: 0.7558\n",
      "Epoch 20/25\n",
      " - 4s - loss: 0.4999 - acc: 0.7563\n",
      "Epoch 21/25\n",
      " - 4s - loss: 0.4986 - acc: 0.7576\n",
      "Epoch 22/25\n",
      " - 4s - loss: 0.4982 - acc: 0.7576\n",
      "Epoch 23/25\n",
      " - 4s - loss: 0.4972 - acc: 0.7582\n",
      "Epoch 24/25\n",
      " - 4s - loss: 0.4965 - acc: 0.7588\n",
      "Epoch 25/25\n",
      " - 4s - loss: 0.4960 - acc: 0.7594\n"
     ]
    }
   ],
   "source": [
    "# train on linear neural network\n",
    "linear_nn = LinearNN(data_train_os[0].shape[1], epochs=25)\n",
    "linear_nn.fit(data_train_os[0], target_train_os)\n",
    "\n",
    "train_results[:, 0] = linear_nn.predict(data_train[0]).squeeze()\n",
    "val_results[:, 0] = linear_nn.predict(data_val[0]).squeeze()"
   ]
  },
  {
   "cell_type": "code",
   "execution_count": 44,
   "metadata": {},
   "outputs": [],
   "source": [
    "# gradient boosting classifier\n",
    "gbc = GBC()\n",
    "gbc.fit(data_train_os[0], target_train_os)\n",
    "\n",
    "train_results[:, 1] = gbc.predict(data_train[0]).squeeze()\n",
    "val_results[:, 1] = gbc.predict(data_val[0]).squeeze()"
   ]
  },
  {
   "cell_type": "code",
   "execution_count": 45,
   "metadata": {},
   "outputs": [],
   "source": [
    "# adaboost classifier\n",
    "abc = ABC()\n",
    "abc.fit(data_train_os[0], target_train_os)\n",
    "\n",
    "train_results[:, 2] = abc.predict(data_train[0]).squeeze()\n",
    "val_results[:, 2] = abc.predict(data_val[0]).squeeze()"
   ]
  },
  {
   "cell_type": "code",
   "execution_count": 46,
   "metadata": {},
   "outputs": [],
   "source": [
    "model_args = {\n",
    "    'epochs': 50,\n",
    "    'batch_size': 512,\n",
    "    'lstm_gpu': False,\n",
    "    'sequence_dense_layers': 0,\n",
    "    'sequence_dense_width': 8,\n",
    "    'sequence_l2_reg': 0,\n",
    "    'meta_dense_layers': 1,\n",
    "    'meta_dense_width': 64,\n",
    "    'meta_l2_reg': 1e-5,\n",
    "    'meta_dropout': 0.2,\n",
    "    'comb_dense_layers': 3,\n",
    "    'comb_dense_width': 64,\n",
    "    'comb_l2_reg': 1e-6,\n",
    "    'comb_dropout': 0.2,\n",
    "    'lstm_units': 8,\n",
    "    'lstm_l2_reg': 1e-7\n",
    "}\n",
    "\n",
    "input_shape = loader.get_input_shape()\n",
    "lstm_nn = MultiLSTMWithMetadata(input_shape, **model_args)"
   ]
  },
  {
   "cell_type": "code",
   "execution_count": null,
   "metadata": {},
   "outputs": [
    {
     "name": "stdout",
     "output_type": "stream",
     "text": [
      "Epoch 1/50\n",
      "565372/565372 [==============================] - 191s 338us/step - loss: 1.0194 - main_output_loss: 0.6041 - lstm_output_0_loss: 0.6882 - lstm_output_1_loss: 0.6916 - lstm_output_2_loss: 0.6909 - main_output_acc: 0.6767 - lstm_output_0_acc: 0.5306 - lstm_output_1_acc: 0.5129 - lstm_output_2_acc: 0.5237\n",
      "Epoch 2/50\n",
      "565372/565372 [==============================] - 189s 334us/step - loss: 0.9950 - main_output_loss: 0.5807 - lstm_output_0_loss: 0.6860 - lstm_output_1_loss: 0.6907 - lstm_output_2_loss: 0.6885 - main_output_acc: 0.6975 - lstm_output_0_acc: 0.5349 - lstm_output_1_acc: 0.5166 - lstm_output_2_acc: 0.5366\n",
      "Epoch 3/50\n",
      "565372/565372 [==============================] - 196s 347us/step - loss: 0.9847 - main_output_loss: 0.5706 - lstm_output_0_loss: 0.6855 - lstm_output_1_loss: 0.6903 - lstm_output_2_loss: 0.6873 - main_output_acc: 0.7041 - lstm_output_0_acc: 0.5349 - lstm_output_1_acc: 0.5183 - lstm_output_2_acc: 0.5387\n",
      "Epoch 4/50\n",
      "565372/565372 [==============================] - 205s 362us/step - loss: 0.9764 - main_output_loss: 0.5625 - lstm_output_0_loss: 0.6852 - lstm_output_1_loss: 0.6901 - lstm_output_2_loss: 0.6865 - main_output_acc: 0.7098 - lstm_output_0_acc: 0.5352 - lstm_output_1_acc: 0.5194 - lstm_output_2_acc: 0.5412\n",
      "Epoch 5/50\n",
      "565372/565372 [==============================] - 207s 366us/step - loss: 0.9692 - main_output_loss: 0.5553 - lstm_output_0_loss: 0.6850 - lstm_output_1_loss: 0.6899 - lstm_output_2_loss: 0.6861 - main_output_acc: 0.7141 - lstm_output_0_acc: 0.5348 - lstm_output_1_acc: 0.5188 - lstm_output_2_acc: 0.5420\n",
      "Epoch 6/50\n",
      "565372/565372 [==============================] - 208s 367us/step - loss: 0.9649 - main_output_loss: 0.5509 - lstm_output_0_loss: 0.6852 - lstm_output_1_loss: 0.6898 - lstm_output_2_loss: 0.6859 - main_output_acc: 0.7163 - lstm_output_0_acc: 0.5339 - lstm_output_1_acc: 0.5197 - lstm_output_2_acc: 0.5427\n",
      "Epoch 7/50\n",
      "565372/565372 [==============================] - 207s 367us/step - loss: 0.9595 - main_output_loss: 0.5455 - lstm_output_0_loss: 0.6849 - lstm_output_1_loss: 0.6898 - lstm_output_2_loss: 0.6857 - main_output_acc: 0.7202 - lstm_output_0_acc: 0.5348 - lstm_output_1_acc: 0.5191 - lstm_output_2_acc: 0.5434\n",
      "Epoch 8/50\n",
      "565372/565372 [==============================] - 207s 366us/step - loss: 0.9556 - main_output_loss: 0.5415 - lstm_output_0_loss: 0.6848 - lstm_output_1_loss: 0.6896 - lstm_output_2_loss: 0.6857 - main_output_acc: 0.7222 - lstm_output_0_acc: 0.5342 - lstm_output_1_acc: 0.5187 - lstm_output_2_acc: 0.5436\n",
      "Epoch 9/50\n",
      "565372/565372 [==============================] - 207s 367us/step - loss: 0.9515 - main_output_loss: 0.5374 - lstm_output_0_loss: 0.6847 - lstm_output_1_loss: 0.6893 - lstm_output_2_loss: 0.6854 - main_output_acc: 0.7251 - lstm_output_0_acc: 0.5339 - lstm_output_1_acc: 0.5212 - lstm_output_2_acc: 0.5443\n",
      "Epoch 10/50\n",
      "136704/565372 [======>.......................] - ETA: 2:37 - loss: 0.9488 - main_output_loss: 0.5346 - lstm_output_0_loss: 0.6850 - lstm_output_1_loss: 0.6889 - lstm_output_2_loss: 0.6857 - main_output_acc: 0.7294 - lstm_output_0_acc: 0.5357 - lstm_output_1_acc: 0.5207 - lstm_output_2_acc: 0.5441"
     ]
    }
   ],
   "source": [
    "lstm_nn.fit(data_train_os, target_train_os, verbose=1)"
   ]
  },
  {
   "cell_type": "code",
   "execution_count": null,
   "metadata": {},
   "outputs": [],
   "source": [
    "train_results[:, 3] = lstm_nn.predict(data_train).squeeze()\n",
    "val_results[:, 3] = lstm_nn.predict(data_val).squeeze()"
   ]
  },
  {
   "cell_type": "code",
   "execution_count": null,
   "metadata": {},
   "outputs": [],
   "source": [
    "lr = LogisticRegression(class_weight='balanced')\n",
    "lr.fit(train_results, target_train.values)"
   ]
  },
  {
   "cell_type": "code",
   "execution_count": null,
   "metadata": {},
   "outputs": [],
   "source": [
    "# TODO: collect SK_ID for out of sample data\n",
    "y = lr.predict(val_results)"
   ]
  },
  {
   "cell_type": "code",
   "execution_count": null,
   "metadata": {},
   "outputs": [],
   "source": [
    "y.shape, loader.get_test_index().values.shape"
   ]
  },
  {
   "cell_type": "code",
   "execution_count": null,
   "metadata": {},
   "outputs": [],
   "source": [
    "import pandas as pd\n",
    "results = pd.DataFrame(np.concatenate([loader.get_test_index().values.reshape(-1, 1), y.reshape(-1, 1)], axis=1))"
   ]
  },
  {
   "cell_type": "code",
   "execution_count": null,
   "metadata": {},
   "outputs": [],
   "source": [
    "results = pd.DataFrame({'SK_ID_CURR': loader.get_test_index().values, 'TARGET': y}).set_index('SK_ID_CURR')"
   ]
  },
  {
   "cell_type": "code",
   "execution_count": null,
   "metadata": {},
   "outputs": [],
   "source": [
    "results"
   ]
  },
  {
   "cell_type": "code",
   "execution_count": null,
   "metadata": {},
   "outputs": [],
   "source": [
    "results.to_csv('data/results.csv')"
   ]
  },
  {
   "cell_type": "code",
   "execution_count": null,
   "metadata": {},
   "outputs": [],
   "source": []
  }
 ],
 "metadata": {
  "kernelspec": {
   "display_name": "Python 3",
   "language": "python",
   "name": "python3"
  },
  "language_info": {
   "codemirror_mode": {
    "name": "ipython",
    "version": 3
   },
   "file_extension": ".py",
   "mimetype": "text/x-python",
   "name": "python",
   "nbconvert_exporter": "python",
   "pygments_lexer": "ipython3",
   "version": "3.6.5"
  }
 },
 "nbformat": 4,
 "nbformat_minor": 2
}
